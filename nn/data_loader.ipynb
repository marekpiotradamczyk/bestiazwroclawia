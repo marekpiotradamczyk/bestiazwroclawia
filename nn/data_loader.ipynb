{
 "cells": [
  {
   "cell_type": "code",
   "execution_count": 63,
   "id": "initial_id",
   "metadata": {
    "ExecuteTime": {
     "end_time": "2024-05-04T17:25:19.453256Z",
     "start_time": "2024-05-04T17:25:19.449983Z"
    }
   },
   "outputs": [],
   "source": [
    "import torch\n",
    "import time\n",
    "import torch.nn as nn\n",
    "import torch.optim as optim\n",
    "import numpy as np\n",
    "import pandas as pd\n",
    "import matplotlib.pyplot as plt\n",
    "from tqdm.notebook import tqdm\n",
    "from copy import deepcopy \n",
    "from tabulate import tabulate\n",
    "from torch.utils.data import Dataset, DataLoader, random_split\n",
    "from sklearn.metrics import confusion_matrix, ConfusionMatrixDisplay, precision_score"
   ]
  },
  {
   "cell_type": "code",
   "execution_count": 2,
   "id": "b13750a6be5e8a69",
   "metadata": {
    "ExecuteTime": {
     "end_time": "2024-05-03T14:57:01.510501Z",
     "start_time": "2024-05-03T14:57:01.178672Z"
    }
   },
   "outputs": [],
   "source": [
    "DATA_DIR = \"data/\"\n",
    "STOCKFISH_DIR = 'stockfish/'\n",
    "ARCHIVE_DIR = DATA_DIR + 'archives/'\n",
    "BITBOARD_DIR = DATA_DIR + 'bitboards/'\n",
    "ELITE_DATA_BASE_URL  = \"https://database.nikonoel.fr/\"\n",
    "STOCKFISH_DOWNSTREAM = \"https://github.com/official-stockfish/Stockfish/releases/latest/download/\"\n",
    "\n",
    "SAMPLE_ZIP = \"lichess_elite_2021-11.zip\"\n",
    "SAMPLE_PGN = \"lichess_elite_2021-11.pgn\"\n",
    "SAMPLE_BITBOARD = \"elite_bitboard.csv\"\n",
    "BITBOARD_1M = \"1M.csv\"\n",
    "BITBOARD_10M = \"10M.csv\"\n",
    "ELITE_DATA_SAMPLE_URL = ELITE_DATA_BASE_URL + SAMPLE_ZIP\n",
    "SAMPLE_ZIP_FILE = ARCHIVE_DIR + SAMPLE_ZIP\n",
    "SAMPLE_PGN_FILE  = DATA_DIR + SAMPLE_PGN\n",
    "\n",
    "STOCKFISH_AVX512_TAR = \"stockfish-ubuntu-x86-64-avx512.tar\"\n",
    "STOCKFISH_AVX512 = \"stockfish-ubuntu-x86-64-avx512\"\n",
    "STOCKFISH_AVX512_URL = STOCKFISH_DOWNSTREAM + STOCKFISH_AVX512_TAR\n",
    "STOCKFISH_AVX512_EXE = STOCKFISH_DIR + STOCKFISH_AVX512\n",
    "\n",
    "SAMPLE_BITBOARD_FILE = BITBOARD_DIR + SAMPLE_BITBOARD\n",
    "BITBOARD_10M_FILE = BITBOARD_DIR + BITBOARD_10M\n",
    "BITBOARD_1M_FILE = BITBOARD_DIR + BITBOARD_1M\n",
    "\n",
    "device = torch.device('cuda') if torch.cuda.is_available() else torch.device('cpu')"
   ]
  },
  {
   "cell_type": "code",
   "execution_count": 3,
   "id": "608b0930c754cabd",
   "metadata": {
    "ExecuteTime": {
     "end_time": "2024-05-03T14:57:06.739621Z",
     "start_time": "2024-05-03T14:57:06.735393Z"
    }
   },
   "outputs": [],
   "source": [
    "class BitboardDrawDataset(Dataset):\n",
    "    def __init__(self, bitboard_file):\n",
    "        bitboards_df = pd.read_csv(bitboard_file, sep=\";\", dtype=\"uint64\", usecols=range(12))\n",
    "        metadata_df = pd.read_csv(bitboard_file, sep=\";\", dtype=\"int64\", usecols=['draw'])\n",
    "\n",
    "        self.bitboards = np.unpackbits(np.ascontiguousarray(bitboards_df.to_numpy()).view(np.uint8), axis=1).astype(np.single)\n",
    "        self.is_draw = metadata_df['draw'].to_numpy(dtype=np.single)\n",
    "        self.length = self.is_draw.size\n",
    "\n",
    "    def __len__(self):\n",
    "        return self.length\n",
    "\n",
    "    def __getitem__(self, idx):\n",
    "        return self.bitboards[idx], self.is_draw[idx]"
   ]
  },
  {
   "cell_type": "code",
   "execution_count": 56,
   "id": "13d423b5aec85db4",
   "metadata": {
    "ExecuteTime": {
     "end_time": "2024-05-04T16:43:42.159881Z",
     "start_time": "2024-05-04T16:43:42.156480Z"
    }
   },
   "outputs": [],
   "source": [
    "class SimpleModel(nn.Module):\n",
    "\n",
    "    def __init__(self, neurons=256):\n",
    "        super().__init__()\n",
    "        self.neurons = neurons\n",
    "        self.model = nn.Sequential(\n",
    "            nn.Linear(768, neurons),\n",
    "            # nn.Dropout(p=0.5),\n",
    "            nn.ReLU(),\n",
    "            nn.Linear(neurons, 1)\n",
    "        )\n",
    "\n",
    "    def forward(self, x):\n",
    "        return self.model.forward(x)"
   ]
  },
  {
   "cell_type": "code",
   "execution_count": 64,
   "id": "87ecc2ce56ba7086",
   "metadata": {
    "ExecuteTime": {
     "end_time": "2024-05-04T19:15:49.831344Z",
     "start_time": "2024-05-04T19:15:49.822055Z"
    }
   },
   "outputs": [],
   "source": [
    "def timeit(f):\n",
    "\n",
    "    def timed(*args, **kw):\n",
    "\n",
    "        ts = time.time()\n",
    "        result = f(*args, **kw)\n",
    "        te = time.time()\n",
    "\n",
    "        print(f\"Took: {te-ts:.2f}s\")\n",
    "        return result\n",
    "    return timed\n",
    "\n",
    "class Train:\n",
    "    \n",
    "    def __init__(self, train_file, validate_file):\n",
    "        self.train_dataset, self.validate_dataset = BitboardDrawDataset(train_file), BitboardDrawDataset(validate_file)\n",
    "        self.train_dataloader = DataLoader(self.train_dataset, batch_size=32, shuffle=True, pin_memory=True, pin_memory_device=device.type)\n",
    "        self.validate_train_dataloader = DataLoader(self.train_dataset, batch_size=len(self.train_dataset), shuffle=True, pin_memory=True, pin_memory_device=device.type)\n",
    "        self.validate_test_dataloader = DataLoader(self.validate_dataset, batch_size=len(self.validate_dataset), shuffle=True, pin_memory=True, pin_memory_device=device.type)\n",
    "        self.loss_fn = nn.BCEWithLogitsLoss()\n",
    "        self.total_batches = len(self.train_dataloader)\n",
    "        self.print_every = 100\n",
    "        self.epoch_print_interval = 1\n",
    "        \n",
    "    def train_one_epoch(self, model, optimizer, p=False) -> int:\n",
    "        running_loss = 0.\n",
    "        last_loss = 0.\n",
    "    \n",
    "        for i, data in enumerate(self.train_dataloader):\n",
    "            inputs, labels = data\n",
    "            inputs, labels = inputs.to(device), labels.unsqueeze(1).to(device)\n",
    "    \n",
    "            optimizer.zero_grad()\n",
    "\n",
    "            outputs = model(inputs)\n",
    "            \n",
    "            loss = self.loss_fn(outputs, labels)\n",
    "            loss.backward()\n",
    "            optimizer.step()\n",
    "    \n",
    "            running_loss += loss.item()\n",
    "            if i % self.print_every == self.print_every - 1:\n",
    "                last_loss = running_loss / self.print_every\n",
    "                if p: print(f\"  batch {i+1} loss: {last_loss}\")\n",
    "                running_loss = 0.\n",
    "            elif i == self.total_batches - 1:\n",
    "                last_loss = running_loss / (i % self.print_every + 1)\n",
    "                if p: print(f\"  batch {i+1} loss: {last_loss}\")\n",
    "            \n",
    "        return last_loss\n",
    "    \n",
    "    @timeit\n",
    "    def train(self, model, optimizer, epochs, p=True):\n",
    "        best_vloss = np.inf\n",
    "        best_model = deepcopy(model.state_dict())\n",
    "        best_epoch = 0\n",
    "        best_acc = 0\n",
    "    \n",
    "        for epoch in range(1, epochs + 1):\n",
    "            if p and epoch % self.epoch_print_interval == 0 or epoch == 1: print(f'EPOCH {epoch}')\n",
    "        \n",
    "            # Make sure gradient tracking is on, and do a pass over the data\n",
    "            model.train(True)\n",
    "            avg_loss = self.train_one_epoch(model, optimizer)\n",
    "        \n",
    "            model.eval()\n",
    "        \n",
    "            with torch.no_grad():\n",
    "                acc_train, acc_test = 0, 0\n",
    "                loss_train, loss_test = 0, 0\n",
    "                prec_train, prec_test = 0, 0\n",
    "    \n",
    "                for i, vdata in enumerate(self.validate_test_dataloader):\n",
    "                    vinputs, vlabels = vdata\n",
    "                    vinputs, vlabels = vinputs.to(device), vlabels.unsqueeze(1).to(device)\n",
    "                    voutputs = model(vinputs)\n",
    "                    pred = nn.functional.sigmoid(voutputs).round()\n",
    "                    acc_test = (pred == vlabels).sum()\n",
    "                    loss_test = self.loss_fn(voutputs, vlabels)\n",
    "                    prec_test = precision_score(vlabels.to('cpu'), pred.to('cpu'))\n",
    "                    \n",
    "                for i, vdata in enumerate(self.validate_train_dataloader):\n",
    "                    vinputs, vlabels = vdata\n",
    "                    vinputs, vlabels = vinputs.to(device), vlabels.unsqueeze(1).to(device)\n",
    "                    voutputs = model(vinputs)\n",
    "                    pred = nn.functional.sigmoid(voutputs).round()\n",
    "                    acc_train = (pred == vlabels).sum()\n",
    "                    loss_train = self.loss_fn(voutputs, vlabels)\n",
    "                    prec_train = precision_score(vlabels.to('cpu'), pred.to('cpu'))\n",
    "                    \n",
    "            acc_train = (acc_train / len(self.train_dataset)) * 100\n",
    "            acc_test = (acc_test / len(self.validate_dataset)) * 100\n",
    "            \n",
    "            if p and epoch % self.epoch_print_interval == 0 or epoch == 1: \n",
    "                print(tabulate([[\"Loss\", loss_train, loss_test], [\"Precision\", prec_train, prec_test], [\"Accuracy\", f\"{acc_train:.2f}%\", f\"{acc_test:.2f}%\"]],\n",
    "                               headers=[\"\", \"Train\", \"Test\"]))\n",
    "        \n",
    "            if loss_test < best_vloss:\n",
    "                best_vloss = loss_test\n",
    "                best_model = deepcopy(model.state_dict())\n",
    "                best_epoch = epoch\n",
    "                best_acc = acc_test\n",
    "                \n",
    "        return best_model, best_epoch, best_acc\n",
    "    \n",
    "                \n",
    "    def save_model(self, state_dict, neurons, epoch, lr, momentum, acc):\n",
    "        model_path = f\"models/1M/model_{neurons}_{epoch}_{lr}_{momentum}_{acc:.2f}\"\n",
    "        torch.save(state_dict, model_path)\n",
    "        \n",
    "    \n",
    "    def find_best_neuron(self, neurons, epochs, lr=1e-3, momentum=0.9):\n",
    "        for n in neurons:\n",
    "            print(f\"Model {n}\")\n",
    "            model = SimpleModel(n)\n",
    "            model.to(device)\n",
    "            optimizer = optim.SGD(model.parameters(), lr=lr, momentum=momentum)\n",
    "            best_model, epoch, acc = self.train(model, optimizer, epochs)\n",
    "            self.save_model(best_model, n, epoch, lr, momentum, acc)\n",
    "            print(\"\")\n",
    "        "
   ]
  },
  {
   "cell_type": "code",
   "execution_count": 65,
   "id": "e9194572-f607-4a49-8c13-36fdeb3713b8",
   "metadata": {},
   "outputs": [],
   "source": [
    "pipe = Train(\"data/bitboards/100k_0-1441.csv\", \"data/bitboards/10k_144100-144237.csv\")"
   ]
  },
  {
   "cell_type": "code",
   "execution_count": 66,
   "id": "b28464852583617f",
   "metadata": {
    "ExecuteTime": {
     "end_time": "2024-05-04T20:32:27.823212Z",
     "start_time": "2024-05-04T19:15:51.913062Z"
    }
   },
   "outputs": [
    {
     "name": "stdout",
     "output_type": "stream",
     "text": [
      "Model 64\n",
      "EPOCH 1\n",
      "           Train               Test\n",
      "---------  ------------------  ------------------\n",
      "Loss       0.6050282120704651  0.585800290107727\n",
      "Precision  0.6474086197490453  0.6944186046511628\n",
      "Accuracy   69.07%              71.58%\n",
      "EPOCH 2\n",
      "           Train               Test\n",
      "---------  ------------------  ------------------\n",
      "Loss       0.5949164628982544  0.5806962847709656\n",
      "Precision  0.6332768201940284  0.6848409748038001\n",
      "Accuracy   69.33%              72.17%\n",
      "EPOCH 3\n",
      "           Train               Test\n",
      "---------  ------------------  ------------------\n",
      "Loss       0.5873903036117554  0.5789374113082886\n",
      "Precision  0.6504616920389319  0.6909797151488994\n",
      "Accuracy   69.70%              72.07%\n",
      "EPOCH 4\n",
      "           Train               Test\n",
      "---------  ------------------  ------------------\n",
      "Loss       0.5806217193603516  0.5788106322288513\n",
      "Precision  0.6533384534152546  0.6842762063227953\n",
      "Accuracy   70.06%              72.08%\n",
      "EPOCH 5\n",
      "           Train               Test\n",
      "---------  ------------------  ------------------\n",
      "Loss       0.574211835861206   0.5782367587089539\n",
      "Precision  0.6437806115695186  0.6666666666666666\n",
      "Accuracy   70.18%              71.91%\n",
      "EPOCH 6\n",
      "           Train               Test\n",
      "---------  ------------------  ------------------\n",
      "Loss       0.5670353174209595  0.5773654580116272\n",
      "Precision  0.6769761167182972  0.6967741935483871\n",
      "Accuracy   70.75%              72.37%\n",
      "EPOCH 7\n",
      "           Train               Test\n",
      "---------  ------------------  ------------------\n",
      "Loss       0.5595077872276306  0.57655930519104\n",
      "Precision  0.6613692460918893  0.6772466539196941\n",
      "Accuracy   71.12%              72.49%\n",
      "EPOCH 8\n",
      "           Train               Test\n",
      "---------  ------------------  ------------------\n",
      "Loss       0.5526480078697205  0.5766419768333435\n",
      "Precision  0.7058039376538146  0.7061152661680599\n",
      "Accuracy   71.69%              72.59%\n",
      "EPOCH 9\n",
      "           Train               Test\n",
      "---------  ------------------  ------------------\n",
      "Loss       0.5442324876785278  0.5775585770606995\n",
      "Precision  0.6987735153080045  0.6890587288817377\n",
      "Accuracy   72.29%              72.62%\n",
      "EPOCH 10\n",
      "           Train               Test\n",
      "---------  ------------------  ------------------\n",
      "Loss       0.5371267199516296  0.5788483023643494\n",
      "Precision  0.7205427279219233  0.6885798567214496\n",
      "Accuracy   72.93%              72.17%\n",
      "EPOCH 11\n",
      "           Train               Test\n",
      "---------  ------------------  ------------------\n",
      "Loss       0.5283819437026978  0.5812489986419678\n",
      "Precision  0.6955172413793104  0.662589928057554\n",
      "Accuracy   73.87%              72.26%\n",
      "EPOCH 12\n",
      "           Train               Test\n",
      "---------  ------------------  ------------------\n",
      "Loss       0.5217918753623962  0.5828592777252197\n",
      "Precision  0.7483644859813084  0.6904355251921435\n",
      "Accuracy   74.30%              72.14%\n",
      "EPOCH 13\n",
      "           Train               Test\n",
      "---------  ------------------  ------------------\n",
      "Loss       0.5111703872680664  0.5821585059165955\n",
      "Precision  0.7199317276692585  0.6546685673556665\n",
      "Accuracy   75.26%              71.90%\n",
      "EPOCH 14\n",
      "           Train               Test\n",
      "---------  ------------------  ------------------\n",
      "Loss       0.5029940009117126  0.5849454402923584\n",
      "Precision  0.7162870318613751  0.6376085504342017\n",
      "Accuracy   76.05%              71.46%\n",
      "EPOCH 15\n",
      "           Train                Test\n",
      "---------  -------------------  ------------------\n",
      "Loss       0.49807170033454895  0.5921755433082581\n",
      "Precision  0.7729845028730629   0.6617147707979627\n",
      "Accuracy   76.21%               70.84%\n",
      "EPOCH 16\n",
      "           Train               Test\n",
      "---------  ------------------  ------------------\n",
      "Loss       0.4853879511356354  0.5912159085273743\n",
      "Precision  0.7405854742197857  0.6345160179125043\n",
      "Accuracy   77.10%              71.03%\n",
      "EPOCH 17\n",
      "           Train               Test\n",
      "---------  ------------------  ------------------\n",
      "Loss       0.4779910743236542  0.5932642221450806\n",
      "Precision  0.7312255562493838  0.6199297349089747\n",
      "Accuracy   77.74%              70.73%\n",
      "EPOCH 18\n",
      "           Train               Test\n",
      "---------  ------------------  ------------------\n",
      "Loss       0.4699892997741699  0.5996808409690857\n",
      "Precision  0.769775767853778   0.6317729450792481\n",
      "Accuracy   77.98%              70.37%\n",
      "EPOCH 19\n",
      "           Train               Test\n",
      "---------  ------------------  ------------------\n",
      "Loss       0.4601040482521057  0.5983901619911194\n",
      "Precision  0.7515523758099352  0.6234104988588197\n",
      "Accuracy   78.57%              70.79%\n",
      "EPOCH 20\n",
      "           Train               Test\n",
      "---------  ------------------  ------------------\n",
      "Loss       0.4529713988304138  0.6031404733657837\n",
      "Precision  0.7493068919403764  0.6150706436420722\n",
      "Accuracy   78.95%              70.55%\n",
      "Took: 80.61s\n",
      "\n"
     ]
    }
   ],
   "source": [
    "pipe.find_best_neuron([64], 20)"
   ]
  },
  {
   "cell_type": "code",
   "execution_count": 32,
   "id": "f69e35d29a4402d1",
   "metadata": {
    "ExecuteTime": {
     "end_time": "2024-05-04T17:12:04.971412Z",
     "start_time": "2024-05-04T17:12:04.729259Z"
    },
    "editable": true,
    "slideshow": {
     "slide_type": ""
    },
    "tags": []
   },
   "outputs": [
    {
     "ename": "FileNotFoundError",
     "evalue": "[Errno 2] No such file or directory: 'models/100K/sgd/model_128_5_0.1_0.9_66.86'",
     "output_type": "error",
     "traceback": [
      "\u001b[0;31m---------------------------------------------------------------------------\u001b[0m",
      "\u001b[0;31mFileNotFoundError\u001b[0m                         Traceback (most recent call last)",
      "Cell \u001b[0;32mIn[32], line 7\u001b[0m\n\u001b[1;32m      4\u001b[0m validate_dataloader \u001b[38;5;241m=\u001b[39m DataLoader(validate_dataset, batch_size\u001b[38;5;241m=\u001b[39m\u001b[38;5;28mlen\u001b[39m(validate_dataset))\n\u001b[1;32m      6\u001b[0m model \u001b[38;5;241m=\u001b[39m SimpleModel(\u001b[38;5;241m128\u001b[39m)\n\u001b[0;32m----> 7\u001b[0m model\u001b[38;5;241m.\u001b[39mload_state_dict(\u001b[43mtorch\u001b[49m\u001b[38;5;241;43m.\u001b[39;49m\u001b[43mload\u001b[49m\u001b[43m(\u001b[49m\u001b[38;5;124;43m\"\u001b[39;49m\u001b[38;5;124;43mmodels/100K/sgd/model_128_5_0.1_0.9_66.86\u001b[39;49m\u001b[38;5;124;43m\"\u001b[39;49m\u001b[43m,\u001b[49m\u001b[43m \u001b[49m\u001b[43mmap_location\u001b[49m\u001b[38;5;241;43m=\u001b[39;49m\u001b[43mdevice\u001b[49m\u001b[43m)\u001b[49m)\n\u001b[1;32m      8\u001b[0m model\u001b[38;5;241m.\u001b[39mto(device)\n\u001b[1;32m      9\u001b[0m model\u001b[38;5;241m.\u001b[39meval()\n",
      "File \u001b[0;32m~/venv/nn-snake/lib/python3.12/site-packages/torch/serialization.py:997\u001b[0m, in \u001b[0;36mload\u001b[0;34m(f, map_location, pickle_module, weights_only, mmap, **pickle_load_args)\u001b[0m\n\u001b[1;32m    994\u001b[0m \u001b[38;5;28;01mif\u001b[39;00m \u001b[38;5;124m'\u001b[39m\u001b[38;5;124mencoding\u001b[39m\u001b[38;5;124m'\u001b[39m \u001b[38;5;129;01mnot\u001b[39;00m \u001b[38;5;129;01min\u001b[39;00m pickle_load_args\u001b[38;5;241m.\u001b[39mkeys():\n\u001b[1;32m    995\u001b[0m     pickle_load_args[\u001b[38;5;124m'\u001b[39m\u001b[38;5;124mencoding\u001b[39m\u001b[38;5;124m'\u001b[39m] \u001b[38;5;241m=\u001b[39m \u001b[38;5;124m'\u001b[39m\u001b[38;5;124mutf-8\u001b[39m\u001b[38;5;124m'\u001b[39m\n\u001b[0;32m--> 997\u001b[0m \u001b[38;5;28;01mwith\u001b[39;00m \u001b[43m_open_file_like\u001b[49m\u001b[43m(\u001b[49m\u001b[43mf\u001b[49m\u001b[43m,\u001b[49m\u001b[43m \u001b[49m\u001b[38;5;124;43m'\u001b[39;49m\u001b[38;5;124;43mrb\u001b[39;49m\u001b[38;5;124;43m'\u001b[39;49m\u001b[43m)\u001b[49m \u001b[38;5;28;01mas\u001b[39;00m opened_file:\n\u001b[1;32m    998\u001b[0m     \u001b[38;5;28;01mif\u001b[39;00m _is_zipfile(opened_file):\n\u001b[1;32m    999\u001b[0m         \u001b[38;5;66;03m# The zipfile reader is going to advance the current file position.\u001b[39;00m\n\u001b[1;32m   1000\u001b[0m         \u001b[38;5;66;03m# If we want to actually tail call to torch.jit.load, we need to\u001b[39;00m\n\u001b[1;32m   1001\u001b[0m         \u001b[38;5;66;03m# reset back to the original position.\u001b[39;00m\n\u001b[1;32m   1002\u001b[0m         orig_position \u001b[38;5;241m=\u001b[39m opened_file\u001b[38;5;241m.\u001b[39mtell()\n",
      "File \u001b[0;32m~/venv/nn-snake/lib/python3.12/site-packages/torch/serialization.py:444\u001b[0m, in \u001b[0;36m_open_file_like\u001b[0;34m(name_or_buffer, mode)\u001b[0m\n\u001b[1;32m    442\u001b[0m \u001b[38;5;28;01mdef\u001b[39;00m \u001b[38;5;21m_open_file_like\u001b[39m(name_or_buffer, mode):\n\u001b[1;32m    443\u001b[0m     \u001b[38;5;28;01mif\u001b[39;00m _is_path(name_or_buffer):\n\u001b[0;32m--> 444\u001b[0m         \u001b[38;5;28;01mreturn\u001b[39;00m \u001b[43m_open_file\u001b[49m\u001b[43m(\u001b[49m\u001b[43mname_or_buffer\u001b[49m\u001b[43m,\u001b[49m\u001b[43m \u001b[49m\u001b[43mmode\u001b[49m\u001b[43m)\u001b[49m\n\u001b[1;32m    445\u001b[0m     \u001b[38;5;28;01melse\u001b[39;00m:\n\u001b[1;32m    446\u001b[0m         \u001b[38;5;28;01mif\u001b[39;00m \u001b[38;5;124m'\u001b[39m\u001b[38;5;124mw\u001b[39m\u001b[38;5;124m'\u001b[39m \u001b[38;5;129;01min\u001b[39;00m mode:\n",
      "File \u001b[0;32m~/venv/nn-snake/lib/python3.12/site-packages/torch/serialization.py:425\u001b[0m, in \u001b[0;36m_open_file.__init__\u001b[0;34m(self, name, mode)\u001b[0m\n\u001b[1;32m    424\u001b[0m \u001b[38;5;28;01mdef\u001b[39;00m \u001b[38;5;21m__init__\u001b[39m(\u001b[38;5;28mself\u001b[39m, name, mode):\n\u001b[0;32m--> 425\u001b[0m     \u001b[38;5;28msuper\u001b[39m()\u001b[38;5;241m.\u001b[39m\u001b[38;5;21m__init__\u001b[39m(\u001b[38;5;28;43mopen\u001b[39;49m\u001b[43m(\u001b[49m\u001b[43mname\u001b[49m\u001b[43m,\u001b[49m\u001b[43m \u001b[49m\u001b[43mmode\u001b[49m\u001b[43m)\u001b[49m)\n",
      "\u001b[0;31mFileNotFoundError\u001b[0m: [Errno 2] No such file or directory: 'models/100K/sgd/model_128_5_0.1_0.9_66.86'"
     ]
    }
   ],
   "source": [
    "validate_dataset = BitboardDrawDataset(\"data/bitboards/100k_0-1441.csv\")\n",
    "validate_dataloader = DataLoader(validate_dataset, batch_size=len(validate_dataset))\n",
    "\n",
    "model = SimpleModel(128)\n",
    "model.load_state_dict(torch.load(\"models/100K/sgd/model_128_5_0.1_0.9_66.86\", map_location=device))\n",
    "model.to(device)\n",
    "model.eval()\n",
    "with torch.no_grad():\n",
    "    acc = 0\n",
    "    vdata = next(iter(validate_dataloader))\n",
    "    vinputs, vlabels = vdata\n",
    "    vinputs, vlabels = vinputs.to(device), vlabels.unsqueeze(1).to(device)\n",
    "    voutputs = model(vinputs)\n",
    "    \n",
    "    logits = nn.functional.sigmoid(voutputs)\n",
    "    loss = nn.functional.binary_cross_entropy_with_logits(voutputs, vlabels).numpy()\n",
    "\n",
    "    pred = logits > 0.5\n",
    "    print(f\"Acc: {(((pred == vlabels).sum() / len(validate_dataset)) * 100):.2f}%\")\n",
    "    print(f\"Loss: {loss}\")\n",
    "    cm = confusion_matrix(vdata[1].to('cpu'), pred.to('cpu'))\n",
    "    ConfusionMatrixDisplay(cm).plot(cmap='Oranges')\n"
   ]
  },
  {
   "cell_type": "code",
   "execution_count": 26,
   "id": "8a8b6f41-5048-447c-ac77-53a0321c75b5",
   "metadata": {},
   "outputs": [
    {
     "name": "stdout",
     "output_type": "stream",
     "text": [
      "6.84\n"
     ]
    },
    {
     "data": {
      "text/plain": [
       "610"
      ]
     },
     "execution_count": 26,
     "metadata": {},
     "output_type": "execute_result"
    }
   ],
   "source": [
    "arr = [(logits > k).cpu().numpy() for k in np.linspace(0, 1, 1000)]\n",
    "acc_arr = [((i == vlabels.cpu().numpy()).sum() / 1000) for i in arr]\n",
    "print(max(acc_arr))\n",
    "acc_arr.index(max(acc_arr))"
   ]
  },
  {
   "cell_type": "code",
   "execution_count": 27,
   "id": "2280e22a-fc85-412a-9413-d9522ce3cbaf",
   "metadata": {},
   "outputs": [
    {
     "name": "stderr",
     "output_type": "stream",
     "text": [
      "/home/jan/venv/nn-snake/lib/python3.12/site-packages/sklearn/metrics/_classification.py:1509: UndefinedMetricWarning: Precision is ill-defined and being set to 0.0 due to no predicted samples. Use `zero_division` parameter to control this behavior.\n",
      "  _warn_prf(average, modifier, f\"{metric.capitalize()} is\", len(result))\n"
     ]
    }
   ],
   "source": [
    "tparr = []\n",
    "for i in arr:\n",
    "    tparr.append(precision_score(vdata[1].to('cpu'), i))"
   ]
  },
  {
   "cell_type": "code",
   "execution_count": 28,
   "id": "d9e77f86-902c-4266-944a-8d37db7df6b6",
   "metadata": {},
   "outputs": [
    {
     "name": "stdout",
     "output_type": "stream",
     "text": [
      "Best value: 0.72\n",
      "Cutoff: 0.918\n"
     ]
    },
    {
     "data": {
      "text/plain": [
       "<sklearn.metrics._plot.confusion_matrix.ConfusionMatrixDisplay at 0x712872124650>"
      ]
     },
     "execution_count": 28,
     "metadata": {},
     "output_type": "execute_result"
    },
    {
     "data": {
      "image/png": "[encoded data removed]",
      "text/plain": [
       "<Figure size 640x480 with 1 Axes>"
      ]
     },
     "metadata": {},
     "output_type": "display_data"
    },
    {
     "data": {
      "image/png": "[encoded data removed]",
      "text/plain": [
       "<Figure size 640x480 with 2 Axes>"
      ]
     },
     "metadata": {},
     "output_type": "display_data"
    }
   ],
   "source": [
    "pred = logits > 0.997\n",
    "plt.plot(np.linspace(0, 1, 1000), tparr)\n",
    "plt.title(\"True positive / (True positive + False positive)\")\n",
    "plt.xlabel(\"Cutoff\")\n",
    "plt.ylabel(\"Value\")\n",
    "print(f\"Best value: {max(tparr):.2f}\\nCutoff: {tparr.index(max(tparr)) / 1000}\")\n",
    "cm = confusion_matrix(vdata[1].to('cpu'), pred.to('cpu'))\n",
    "ConfusionMatrixDisplay(cm).plot(cmap='Oranges')"
   ]
  },
  {
   "cell_type": "code",
   "execution_count": null,
   "id": "7d13f67f-6fd1-4a0f-ab15-2d396dff0a12",
   "metadata": {},
   "outputs": [],
   "source": []
  },
  {
   "cell_type": "code",
   "execution_count": 213,
   "id": "f71ae554-ae68-4a84-a375-6d67fbd8893f",
   "metadata": {},
   "outputs": [
    {
     "name": "stdout",
     "output_type": "stream",
     "text": [
      "Best cutoff value: 0.61\n",
      "Accuraccy : 68.40%\n"
     ]
    },
    {
     "data": {
      "text/plain": [
       "<sklearn.metrics._plot.confusion_matrix.ConfusionMatrixDisplay at 0x7f455c3f3450>"
      ]
     },
     "execution_count": 213,
     "metadata": {},
     "output_type": "execute_result"
    },
    {
     "data": {
      "image/png": "[encoded data removed]",
      "text/plain": [
       "<Figure size 640x480 with 1 Axes>"
      ]
     },
     "metadata": {},
     "output_type": "display_data"
    },
    {
     "data": {
      "image/png": "[encoded data removed]",
      "text/plain": [
       "<Figure size 640x480 with 2 Axes>"
      ]
     },
     "metadata": {},
     "output_type": "display_data"
    }
   ],
   "source": [
    "pred = logits > 0.918\n",
    "plt.plot(np.linspace(0, 1, 1000), acc_arr)\n",
    "print(f\"Best cutoff value: {acc_arr.index(max(acc_arr)) / 1000}\")\n",
    "print(f\"Accuraccy : {max(acc_arr):.2f}%\")\n",
    "cm = confusion_matrix(vdata[1].to('cpu'), pred.to('cpu'))\n",
    "ConfusionMatrixDisplay(cm).plot(cmap='Oranges')"
   ]
  },
  {
   "cell_type": "code",
   "execution_count": 29,
   "id": "515b8b65-6b91-420d-963a-b8c7ea57a071",
   "metadata": {},
   "outputs": [],
   "source": [
    "def unpack_to_bits(dataset):\n",
    "    dataset.map(lambda x: \";\".join(np.char.mod('%d', np.unpackbits(np.array([x]).view(np.uint8))))).to_csv(\"dataset_bits.csv\", sep=\";\", index=False)\n",
    "    bity = pd.read_csv(\"dataset_bits.csv\", dtype=\"uint64\", sep=\";\", header=None)\n",
    "    dataset.rename(columns={\"draw\": 768})\n",
    "    pd.concat([bity, dataset.rename(columns={\"draw\": 768})], axis=1).to_csv(\"dataset_bits.csv\", sep=\";\", index=False)"
   ]
  }
 ],
 "metadata": {
  "kernelspec": {
   "display_name": "Python 3 (ipykernel)",
   "language": "python",
   "name": "python3"
  },
  "language_info": {
   "codemirror_mode": {
    "name": "ipython",
    "version": 3
   },
   "file_extension": ".py",
   "mimetype": "text/x-python",
   "name": "python",
   "nbconvert_exporter": "python",
   "pygments_lexer": "ipython3",
   "version": "3.11.2"
  }
 },
 "nbformat": 4,
 "nbformat_minor": 5
}
