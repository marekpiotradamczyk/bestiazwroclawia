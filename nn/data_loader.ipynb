{
 "cells": [
  {
   "cell_type": "code",
   "execution_count": 1,
   "id": "initial_id",
   "metadata": {
    "ExecuteTime": {
     "end_time": "2024-05-04T17:25:19.453256Z",
     "start_time": "2024-05-04T17:25:19.449983Z"
    }
   },
   "outputs": [],
   "source": [
    "import torch\n",
    "import time\n",
    "import torch.nn as nn\n",
    "import torch.optim as optim\n",
    "import numpy as np\n",
    "import pandas as pd\n",
    "import matplotlib.pyplot as plt\n",
    "from tqdm.notebook import tqdm\n",
    "from copy import deepcopy \n",
    "from torch.utils.data import Dataset, DataLoader, random_split"
   ]
  },
  {
   "cell_type": "code",
   "execution_count": 2,
   "id": "b13750a6be5e8a69",
   "metadata": {
    "ExecuteTime": {
     "end_time": "2024-05-03T14:57:01.510501Z",
     "start_time": "2024-05-03T14:57:01.178672Z"
    }
   },
   "outputs": [],
   "source": [
    "DATA_DIR = \"data/\"\n",
    "STOCKFISH_DIR = 'stockfish/'\n",
    "ARCHIVE_DIR = DATA_DIR + 'archives/'\n",
    "BITBOARD_DIR = DATA_DIR + 'bitboards/'\n",
    "ELITE_DATA_BASE_URL  = \"https://database.nikonoel.fr/\"\n",
    "STOCKFISH_DOWNSTREAM = \"https://github.com/official-stockfish/Stockfish/releases/latest/download/\"\n",
    "\n",
    "SAMPLE_ZIP = \"lichess_elite_2021-11.zip\"\n",
    "SAMPLE_PGN = \"lichess_elite_2021-11.pgn\"\n",
    "SAMPLE_BITBOARD = \"elite_bitboard.csv\"\n",
    "ELITE_DATA_SAMPLE_URL = ELITE_DATA_BASE_URL + SAMPLE_ZIP\n",
    "SAMPLE_ZIP_FILE = ARCHIVE_DIR + SAMPLE_ZIP\n",
    "SAMPLE_PGN_FILE  = DATA_DIR + SAMPLE_PGN\n",
    "\n",
    "STOCKFISH_AVX512_TAR = \"stockfish-ubuntu-x86-64-avx512.tar\"\n",
    "STOCKFISH_AVX512 = \"stockfish-ubuntu-x86-64-avx512\"\n",
    "STOCKFISH_AVX512_URL = STOCKFISH_DOWNSTREAM + STOCKFISH_AVX512_TAR\n",
    "STOCKFISH_AVX512_EXE = STOCKFISH_DIR + STOCKFISH_AVX512\n",
    "\n",
    "SAMPLE_BITBOARD_FILE = BITBOARD_DIR + SAMPLE_BITBOARD\n",
    "\n",
    "device = torch.device('cuda') if torch.cuda.is_available() else torch.device('cpu')"
   ]
  },
  {
   "cell_type": "code",
   "execution_count": 3,
   "id": "608b0930c754cabd",
   "metadata": {
    "ExecuteTime": {
     "end_time": "2024-05-03T14:57:06.739621Z",
     "start_time": "2024-05-03T14:57:06.735393Z"
    }
   },
   "outputs": [],
   "source": [
    "class BitboardDrawDataset(Dataset):\n",
    "    def __init__(self, bitboard_file):\n",
    "        bitboards_df = pd.read_csv(bitboard_file, sep=\";\", dtype=\"uint64\", usecols=range(12))\n",
    "        metadata_df = pd.read_csv(bitboard_file, sep=\";\", dtype=\"int64\", usecols=range(12, 14))\n",
    "\n",
    "        self.bitboards = np.unpackbits(np.ascontiguousarray(bitboards_df.to_numpy()).view(np.uint8), axis=1).astype(np.single)\n",
    "        self.is_draw = metadata_df['draw'].to_numpy(dtype=np.single)\n",
    "        self.length = self.is_draw.size\n",
    "\n",
    "    def __len__(self):\n",
    "        return self.length\n",
    "\n",
    "    def __getitem__(self, idx):\n",
    "        return self.bitboards[idx], self.is_draw[idx]"
   ]
  },
  {
   "cell_type": "code",
   "execution_count": 4,
   "id": "13d423b5aec85db4",
   "metadata": {
    "ExecuteTime": {
     "end_time": "2024-05-04T16:43:42.159881Z",
     "start_time": "2024-05-04T16:43:42.156480Z"
    }
   },
   "outputs": [],
   "source": [
    "class SimpleModel(nn.Module):\n",
    "\n",
    "    def __init__(self, neurons=256):\n",
    "        super().__init__()\n",
    "        self.neurons = neurons\n",
    "        self.model = nn.Sequential(\n",
    "            nn.Linear(768, neurons),\n",
    "            # nn.ReLU(),\n",
    "            # nn.Linear(1024, neurons),\n",
    "            nn.ReLU(),\n",
    "            nn.Linear(neurons, 1)\n",
    "        )\n",
    "\n",
    "    def forward(self, x):\n",
    "        return self.model.forward(x)"
   ]
  },
  {
   "cell_type": "code",
   "execution_count": 5,
   "id": "87ecc2ce56ba7086",
   "metadata": {
    "ExecuteTime": {
     "end_time": "2024-05-04T19:15:49.831344Z",
     "start_time": "2024-05-04T19:15:49.822055Z"
    }
   },
   "outputs": [],
   "source": [
    "def timeit(f):\n",
    "\n",
    "    def timed(*args, **kw):\n",
    "\n",
    "        ts = time.time()\n",
    "        result = f(*args, **kw)\n",
    "        te = time.time()\n",
    "\n",
    "        print(f\"Took: {te-ts:.2f}s\")\n",
    "        return result\n",
    "    return timed\n",
    "\n",
    "class Train:\n",
    "    \n",
    "    def __init__(self, train_file, validate_file):\n",
    "        # self.train_dataset, self.validate_dataset = random_split(BitboardDrawDataset(data_file), [90000, 10000])\n",
    "        self.train_dataset, self.validate_dataset = BitboardDrawDataset(train_file), BitboardDrawDataset(validate_file)\n",
    "        self.train_dataloader = DataLoader(self.train_dataset, batch_size=32, shuffle=True, pin_memory=True, pin_memory_device=device.type)\n",
    "        self.validate_dataloader = DataLoader(self.validate_dataset, batch_size=32, shuffle=True, pin_memory=True, pin_memory_device=device.type)\n",
    "        self.loss_fn = nn.BCEWithLogitsLoss()\n",
    "        self.total_batches = len(self.train_dataloader)\n",
    "        self.print_every = 100\n",
    "        \n",
    "    def train_one_epoch(self, model, optimizer, p=False) -> int:\n",
    "        running_loss = 0.\n",
    "        last_loss = 0.\n",
    "    \n",
    "        for i, data in enumerate(self.train_dataloader):\n",
    "            inputs, labels = data\n",
    "            inputs, labels = inputs.to(device), labels.unsqueeze(1).to(device)\n",
    "    \n",
    "            optimizer.zero_grad()\n",
    "\n",
    "            outputs = model(inputs)\n",
    "            \n",
    "            loss = self.loss_fn(outputs, labels)\n",
    "            loss.backward()\n",
    "            optimizer.step()\n",
    "    \n",
    "            running_loss += loss.item()\n",
    "            if i % self.print_every == self.print_every - 1:\n",
    "                last_loss = running_loss / self.print_every\n",
    "                if p: print(f\"  batch {i+1} loss: {last_loss}\")\n",
    "                running_loss = 0.\n",
    "            elif i == self.total_batches - 1:\n",
    "                last_loss = running_loss / (i % self.print_every + 1)\n",
    "                if p: print(f\"  batch {i+1} loss: {last_loss}\")\n",
    "            \n",
    "        return last_loss\n",
    "    \n",
    "    @timeit\n",
    "    def train(self, model, optimizer, epochs, p=True):\n",
    "        best_vloss = np.inf\n",
    "        best_model = deepcopy(model.state_dict())\n",
    "        best_epoch = 0\n",
    "        best_acc = 0\n",
    "    \n",
    "        for epoch in range(1, epochs + 1):\n",
    "            if p and epoch % 10 == 0 or epoch == 1: print(f'EPOCH {epoch}')\n",
    "        \n",
    "            # Make sure gradient tracking is on, and do a pass over the data\n",
    "            model.train(True)\n",
    "            avg_loss = self.train_one_epoch(model, optimizer)\n",
    "        \n",
    "            running_vloss = 0.0\n",
    "            model.eval()\n",
    "        \n",
    "            with torch.no_grad():\n",
    "                acc = 0\n",
    "                for i, vdata in enumerate(self.validate_dataloader):\n",
    "                    vinputs, vlabels = vdata\n",
    "                    vinputs, vlabels = vinputs.to(device), vlabels.unsqueeze(1).to(device)\n",
    "                    voutputs = model(vinputs)\n",
    "                    pred = nn.functional.sigmoid(voutputs)\n",
    "                    acc += (pred.round() == vlabels).sum()\n",
    "                    vloss = self.loss_fn(voutputs, vlabels)\n",
    "                    running_vloss += vloss\n",
    "                    \n",
    "            acc = (acc / len(self.validate_dataset)) * 100\n",
    "            avg_vloss = running_vloss / (i + 1)\n",
    "            if p and epoch % 10 == 0 or epoch == 1: print(f\"LOSS train {avg_loss} valid {avg_vloss}\")\n",
    "            if p and epoch % 10 == 0 or epoch == 1: print(f\"ACC {acc:.2f}%\")\n",
    "        \n",
    "            if avg_vloss < best_vloss:\n",
    "                best_vloss = avg_vloss\n",
    "                best_model = deepcopy(model.state_dict())\n",
    "                best_epoch = epoch\n",
    "                best_acc = acc\n",
    "                \n",
    "        return best_model, best_epoch, best_acc\n",
    "    \n",
    "                \n",
    "    def save_model(self, state_dict, neurons, epoch, lr, momentum, acc):\n",
    "        model_path = f\"models/model_{neurons}_{epoch}_{lr}_{momentum}_{acc:.2f}\"\n",
    "        torch.save(state_dict, model_path)\n",
    "        \n",
    "    \n",
    "    def find_best_neuron(self, neurons, epochs, lr=0.1, momentum=0.9):\n",
    "        for n in neurons:\n",
    "            print(f\"Model {n}\")\n",
    "            model = SimpleModel(n)\n",
    "            model.to(device)\n",
    "            optimizer = optim.SGD(model.parameters(), lr=lr, momentum=momentum)\n",
    "            best_model, epoch, acc = self.train(model, optimizer, epochs)\n",
    "            self.save_model(best_model, n, epoch, lr, momentum, acc)\n",
    "            print(\"\")\n",
    "        "
   ]
  },
  {
   "cell_type": "code",
   "execution_count": 6,
   "id": "e9194572-f607-4a49-8c13-36fdeb3713b8",
   "metadata": {},
   "outputs": [],
   "source": [
    "pipe = Train(\"data/bitboards/100k_0-1441.csv\", \"data/bitboards/10k_144100-144237.csv\")"
   ]
  },
  {
   "cell_type": "code",
   "execution_count": 27,
   "id": "b28464852583617f",
   "metadata": {
    "ExecuteTime": {
     "end_time": "2024-05-04T20:32:27.823212Z",
     "start_time": "2024-05-04T19:15:51.913062Z"
    }
   },
   "outputs": [
    {
     "name": "stdout",
     "output_type": "stream",
     "text": [
      "Model 64\n",
      "EPOCH 1\n",
      "LOSS train 0.4685576379299164 valid 0.6932885050773621\n",
      "ACC 63.48%\n",
      "EPOCH 10\n",
      "LOSS train 0.20692882359027862 valid 1.139052391052246\n",
      "ACC 68.10%\n",
      "Took: 40.99s\n",
      "\n",
      "Model 128\n",
      "EPOCH 1\n",
      "LOSS train 0.4641104423999786 valid 0.6862139105796814\n",
      "ACC 69.49%\n",
      "EPOCH 10\n",
      "LOSS train 0.21122819185256958 valid 1.2591369152069092\n",
      "ACC 64.29%\n",
      "Took: 41.16s\n",
      "\n",
      "Model 256\n",
      "EPOCH 1\n",
      "LOSS train 0.4777806317806244 valid 0.6399534940719604\n",
      "ACC 68.13%\n",
      "EPOCH 10\n",
      "LOSS train 0.2249453032016754 valid 1.2374744415283203\n",
      "ACC 66.56%\n",
      "Took: 41.69s\n",
      "\n",
      "Model 512\n",
      "EPOCH 1\n",
      "LOSS train 0.5071118545532226 valid 0.6290889978408813\n",
      "ACC 67.34%\n",
      "EPOCH 10\n",
      "LOSS train 0.2071860134601593 valid 1.2180514335632324\n",
      "ACC 65.79%\n",
      "Took: 43.48s\n",
      "\n"
     ]
    }
   ],
   "source": [
    "pipe.find_best_neuron([64, 128, 256, 512], 10)"
   ]
  },
  {
   "cell_type": "code",
   "execution_count": 26,
   "id": "f69e35d29a4402d1",
   "metadata": {
    "ExecuteTime": {
     "end_time": "2024-05-04T17:12:04.971412Z",
     "start_time": "2024-05-04T17:12:04.729259Z"
    },
    "editable": true,
    "slideshow": {
     "slide_type": ""
    },
    "tags": []
   },
   "outputs": [
    {
     "name": "stdout",
     "output_type": "stream",
     "text": [
      "Acc: 87.04%\n"
     ]
    },
    {
     "data": {
      "image/png": "[encoded data removed]",
      "text/plain": [
       "<Figure size 640x480 with 2 Axes>"
      ]
     },
     "metadata": {},
     "output_type": "display_data"
    }
   ],
   "source": [
    "from sklearn.metrics import confusion_matrix, ConfusionMatrixDisplay, precision_score\n",
    "\n",
    "validate_dataset = BitboardDrawDataset(\"data/bitboards/100k_0-1441.csv\")\n",
    "validate_dataloader = DataLoader(validate_dataset, batch_size=len(validate_dataset), pin_memory=True, pin_memory_device=device.type)\n",
    "\n",
    "model = SimpleModel(128)\n",
    "model.load_state_dict(torch.load(\"models/sgd/model_128_5_0.1_0.9_66.86\"))\n",
    "model.to(device)\n",
    "model.eval()\n",
    "with torch.no_grad():\n",
    "    acc = 0\n",
    "    vdata = next(iter(validate_dataloader))\n",
    "    vinputs, vlabels = vdata\n",
    "    vinputs, vlabels = vinputs.to(device), vlabels.unsqueeze(1).to(device)\n",
    "    voutputs = model(vinputs)\n",
    "    \n",
    "    logits = nn.functional.sigmoid(voutputs)\n",
    "\n",
    "    pred = logits > 0.5\n",
    "    print(f\"Acc: {(((pred == vlabels).sum() / len(validate_dataset)) * 100):.2f}%\")\n",
    "    \n",
    "    cm = confusion_matrix(vdata[1].to('cpu'), pred.to('cpu'))\n",
    "    ConfusionMatrixDisplay(cm).plot(cmap='Oranges')\n"
   ]
  },
  {
   "cell_type": "code",
   "execution_count": 28,
   "id": "8a8b6f41-5048-447c-ac77-53a0321c75b5",
   "metadata": {},
   "outputs": [
    {
     "name": "stdout",
     "output_type": "stream",
     "text": [
      "87.118\n"
     ]
    },
    {
     "data": {
      "text/plain": [
       "460"
      ]
     },
     "execution_count": 28,
     "metadata": {},
     "output_type": "execute_result"
    }
   ],
   "source": [
    "arr = [(logits > k).cpu().numpy() for k in np.linspace(0, 1, 1000)]\n",
    "acc_arr = [((i == vlabels.cpu().numpy()).sum() / 1000) for i in arr]\n",
    "print(max(acc_arr))\n",
    "acc_arr.index(max(acc_arr))"
   ]
  },
  {
   "cell_type": "code",
   "execution_count": 29,
   "id": "2280e22a-fc85-412a-9413-d9522ce3cbaf",
   "metadata": {},
   "outputs": [
    {
     "name": "stderr",
     "output_type": "stream",
     "text": [
      "/home/jan/venvs/nn-snake/lib/python3.11/site-packages/sklearn/metrics/_classification.py:1509: UndefinedMetricWarning: Precision is ill-defined and being set to 0.0 due to no predicted samples. Use `zero_division` parameter to control this behavior.\n",
      "  _warn_prf(average, modifier, f\"{metric.capitalize()} is\", len(result))\n"
     ]
    }
   ],
   "source": [
    "tparr = []\n",
    "for i in arr:\n",
    "    tparr.append(precision_score(vdata[1].to('cpu'), i))"
   ]
  },
  {
   "cell_type": "code",
   "execution_count": 31,
   "id": "d9e77f86-902c-4266-944a-8d37db7df6b6",
   "metadata": {},
   "outputs": [
    {
     "name": "stdout",
     "output_type": "stream",
     "text": [
      "Best value: 1.00\n",
      "Cutoff: 0.997\n"
     ]
    },
    {
     "data": {
      "text/plain": [
       "<sklearn.metrics._plot.confusion_matrix.ConfusionMatrixDisplay at 0x7fb52a311410>"
      ]
     },
     "execution_count": 31,
     "metadata": {},
     "output_type": "execute_result"
    },
    {
     "data": {
      "image/png": "[encoded data removed]",
      "text/plain": [
       "<Figure size 640x480 with 1 Axes>"
      ]
     },
     "metadata": {},
     "output_type": "display_data"
    },
    {
     "data": {
      "image/png": "[encoded data removed]",
      "text/plain": [
       "<Figure size 640x480 with 2 Axes>"
      ]
     },
     "metadata": {},
     "output_type": "display_data"
    }
   ],
   "source": [
    "pred = logits > 0.997\n",
    "plt.plot(np.linspace(0, 1, 1000), tparr)\n",
    "plt.title(\"True positive / (True positive + False positive)\")\n",
    "plt.xlabel(\"Cutoff\")\n",
    "plt.ylabel(\"Value\")\n",
    "print(f\"Best value: {max(tparr):.2f}\\nCutoff: {tparr.index(max(tparr)) / 1000}\")\n",
    "cm = confusion_matrix(vdata[1].to('cpu'), pred.to('cpu'))\n",
    "ConfusionMatrixDisplay(cm).plot(cmap='Oranges')"
   ]
  },
  {
   "cell_type": "code",
   "execution_count": null,
   "id": "7d13f67f-6fd1-4a0f-ab15-2d396dff0a12",
   "metadata": {},
   "outputs": [],
   "source": []
  },
  {
   "cell_type": "code",
   "execution_count": 213,
   "id": "f71ae554-ae68-4a84-a375-6d67fbd8893f",
   "metadata": {},
   "outputs": [
    {
     "name": "stdout",
     "output_type": "stream",
     "text": [
      "Best cutoff value: 0.61\n",
      "Accuraccy : 68.40%\n"
     ]
    },
    {
     "data": {
      "text/plain": [
       "<sklearn.metrics._plot.confusion_matrix.ConfusionMatrixDisplay at 0x7f455c3f3450>"
      ]
     },
     "execution_count": 213,
     "metadata": {},
     "output_type": "execute_result"
    },
    {
     "data": {
      "image/png": "[encoded data removed]",
      "text/plain": [
       "<Figure size 640x480 with 1 Axes>"
      ]
     },
     "metadata": {},
     "output_type": "display_data"
    },
    {
     "data": {
      "image/png": "[encoded data removed]",
      "text/plain": [
       "<Figure size 640x480 with 2 Axes>"
      ]
     },
     "metadata": {},
     "output_type": "display_data"
    }
   ],
   "source": [
    "pred = logits > 0.918\n",
    "plt.plot(np.linspace(0, 1, 1000), acc_arr)\n",
    "print(f\"Best cutoff value: {acc_arr.index(max(acc_arr)) / 1000}\")\n",
    "print(f\"Accuraccy : {max(acc_arr):.2f}%\")\n",
    "cm = confusion_matrix(vdata[1].to('cpu'), pred.to('cpu'))\n",
    "ConfusionMatrixDisplay(cm).plot(cmap='Oranges')"
   ]
  },
  {
   "cell_type": "code",
   "execution_count": 53,
   "id": "323b8540-cac1-44f9-8bf7-fceed6b2b25f",
   "metadata": {},
   "outputs": [],
   "source": [
    "k10 = pd.read_csv(\"data/bitboards/10k_144100-144237.csv\", sep=\";\", dtype=\"uint64\", usecols=range(13, 14))\n",
    "k100 = pd.read_csv(\"data/bitboards/100k_0-1441.csv\", sep=\";\", dtype=\"uint64\", usecols=range(12))"
   ]
  },
  {
   "cell_type": "code",
   "execution_count": 39,
   "id": "0aac6ddd-01c6-47d2-9123-5e24df561356",
   "metadata": {},
   "outputs": [],
   "source": [
    "k10.map(lambda x: \";\".join(np.char.mod('%d', np.unpackbits(np.array([x]).view(np.uint8))))).to_csv(\"dataset_bits.csv\", sep=\";\", index=False)"
   ]
  },
  {
   "cell_type": "markdown",
   "id": "6089099b-37e6-4894-90c4-cac3b7295f4c",
   "metadata": {},
   "source": [
    "k10.compare(k100)"
   ]
  },
  {
   "cell_type": "code",
   "execution_count": 57,
   "id": "98acfd56-61ef-4bd7-b2c1-ae76cbc2884b",
   "metadata": {},
   "outputs": [],
   "source": [
    "bity = pd.read_csv(\"dataset_bits.csv\", dtype=\"uint64\", sep=\";\", header=None)"
   ]
  },
  {
   "cell_type": "code",
   "execution_count": 58,
   "id": "df13c82c-78ce-4743-8d81-ec0b7d541b76",
   "metadata": {},
   "outputs": [
    {
     "data": {
      "text/html": [
       "<div>\n",
       "<style scoped>\n",
       "    .dataframe tbody tr th:only-of-type {\n",
       "        vertical-align: middle;\n",
       "    }\n",
       "\n",
       "    .dataframe tbody tr th {\n",
       "        vertical-align: top;\n",
       "    }\n",
       "\n",
       "    .dataframe thead th {\n",
       "        text-align: right;\n",
       "    }\n",
       "</style>\n",
       "<table border=\"1\" class=\"dataframe\">\n",
       "  <thead>\n",
       "    <tr style=\"text-align: right;\">\n",
       "      <th></th>\n",
       "      <th>0</th>\n",
       "      <th>1</th>\n",
       "      <th>2</th>\n",
       "      <th>3</th>\n",
       "      <th>4</th>\n",
       "      <th>5</th>\n",
       "      <th>6</th>\n",
       "      <th>7</th>\n",
       "      <th>8</th>\n",
       "      <th>9</th>\n",
       "      <th>...</th>\n",
       "      <th>758</th>\n",
       "      <th>759</th>\n",
       "      <th>760</th>\n",
       "      <th>761</th>\n",
       "      <th>762</th>\n",
       "      <th>763</th>\n",
       "      <th>764</th>\n",
       "      <th>765</th>\n",
       "      <th>766</th>\n",
       "      <th>767</th>\n",
       "    </tr>\n",
       "  </thead>\n",
       "  <tbody>\n",
       "    <tr>\n",
       "      <th>0</th>\n",
       "      <td>0</td>\n",
       "      <td>0</td>\n",
       "      <td>0</td>\n",
       "      <td>0</td>\n",
       "      <td>0</td>\n",
       "      <td>0</td>\n",
       "      <td>0</td>\n",
       "      <td>0</td>\n",
       "      <td>1</td>\n",
       "      <td>1</td>\n",
       "      <td>...</td>\n",
       "      <td>0</td>\n",
       "      <td>0</td>\n",
       "      <td>0</td>\n",
       "      <td>0</td>\n",
       "      <td>0</td>\n",
       "      <td>1</td>\n",
       "      <td>0</td>\n",
       "      <td>0</td>\n",
       "      <td>0</td>\n",
       "      <td>0</td>\n",
       "    </tr>\n",
       "    <tr>\n",
       "      <th>1</th>\n",
       "      <td>0</td>\n",
       "      <td>0</td>\n",
       "      <td>0</td>\n",
       "      <td>0</td>\n",
       "      <td>0</td>\n",
       "      <td>0</td>\n",
       "      <td>0</td>\n",
       "      <td>0</td>\n",
       "      <td>1</td>\n",
       "      <td>1</td>\n",
       "      <td>...</td>\n",
       "      <td>0</td>\n",
       "      <td>0</td>\n",
       "      <td>0</td>\n",
       "      <td>0</td>\n",
       "      <td>0</td>\n",
       "      <td>1</td>\n",
       "      <td>0</td>\n",
       "      <td>0</td>\n",
       "      <td>0</td>\n",
       "      <td>0</td>\n",
       "    </tr>\n",
       "    <tr>\n",
       "      <th>2</th>\n",
       "      <td>0</td>\n",
       "      <td>0</td>\n",
       "      <td>0</td>\n",
       "      <td>0</td>\n",
       "      <td>0</td>\n",
       "      <td>0</td>\n",
       "      <td>0</td>\n",
       "      <td>0</td>\n",
       "      <td>1</td>\n",
       "      <td>1</td>\n",
       "      <td>...</td>\n",
       "      <td>0</td>\n",
       "      <td>0</td>\n",
       "      <td>0</td>\n",
       "      <td>0</td>\n",
       "      <td>0</td>\n",
       "      <td>1</td>\n",
       "      <td>0</td>\n",
       "      <td>0</td>\n",
       "      <td>0</td>\n",
       "      <td>0</td>\n",
       "    </tr>\n",
       "    <tr>\n",
       "      <th>3</th>\n",
       "      <td>0</td>\n",
       "      <td>0</td>\n",
       "      <td>0</td>\n",
       "      <td>0</td>\n",
       "      <td>0</td>\n",
       "      <td>0</td>\n",
       "      <td>0</td>\n",
       "      <td>0</td>\n",
       "      <td>1</td>\n",
       "      <td>1</td>\n",
       "      <td>...</td>\n",
       "      <td>0</td>\n",
       "      <td>0</td>\n",
       "      <td>0</td>\n",
       "      <td>0</td>\n",
       "      <td>0</td>\n",
       "      <td>1</td>\n",
       "      <td>0</td>\n",
       "      <td>0</td>\n",
       "      <td>0</td>\n",
       "      <td>0</td>\n",
       "    </tr>\n",
       "    <tr>\n",
       "      <th>4</th>\n",
       "      <td>0</td>\n",
       "      <td>0</td>\n",
       "      <td>0</td>\n",
       "      <td>0</td>\n",
       "      <td>0</td>\n",
       "      <td>0</td>\n",
       "      <td>0</td>\n",
       "      <td>0</td>\n",
       "      <td>1</td>\n",
       "      <td>1</td>\n",
       "      <td>...</td>\n",
       "      <td>0</td>\n",
       "      <td>0</td>\n",
       "      <td>0</td>\n",
       "      <td>0</td>\n",
       "      <td>0</td>\n",
       "      <td>1</td>\n",
       "      <td>0</td>\n",
       "      <td>0</td>\n",
       "      <td>0</td>\n",
       "      <td>0</td>\n",
       "    </tr>\n",
       "    <tr>\n",
       "      <th>...</th>\n",
       "      <td>...</td>\n",
       "      <td>...</td>\n",
       "      <td>...</td>\n",
       "      <td>...</td>\n",
       "      <td>...</td>\n",
       "      <td>...</td>\n",
       "      <td>...</td>\n",
       "      <td>...</td>\n",
       "      <td>...</td>\n",
       "      <td>...</td>\n",
       "      <td>...</td>\n",
       "      <td>...</td>\n",
       "      <td>...</td>\n",
       "      <td>...</td>\n",
       "      <td>...</td>\n",
       "      <td>...</td>\n",
       "      <td>...</td>\n",
       "      <td>...</td>\n",
       "      <td>...</td>\n",
       "      <td>...</td>\n",
       "      <td>...</td>\n",
       "    </tr>\n",
       "    <tr>\n",
       "      <th>9995</th>\n",
       "      <td>0</td>\n",
       "      <td>0</td>\n",
       "      <td>0</td>\n",
       "      <td>0</td>\n",
       "      <td>0</td>\n",
       "      <td>0</td>\n",
       "      <td>0</td>\n",
       "      <td>0</td>\n",
       "      <td>0</td>\n",
       "      <td>1</td>\n",
       "      <td>...</td>\n",
       "      <td>0</td>\n",
       "      <td>0</td>\n",
       "      <td>0</td>\n",
       "      <td>1</td>\n",
       "      <td>0</td>\n",
       "      <td>0</td>\n",
       "      <td>0</td>\n",
       "      <td>0</td>\n",
       "      <td>0</td>\n",
       "      <td>0</td>\n",
       "    </tr>\n",
       "    <tr>\n",
       "      <th>9996</th>\n",
       "      <td>0</td>\n",
       "      <td>0</td>\n",
       "      <td>0</td>\n",
       "      <td>0</td>\n",
       "      <td>0</td>\n",
       "      <td>0</td>\n",
       "      <td>0</td>\n",
       "      <td>0</td>\n",
       "      <td>0</td>\n",
       "      <td>1</td>\n",
       "      <td>...</td>\n",
       "      <td>0</td>\n",
       "      <td>0</td>\n",
       "      <td>0</td>\n",
       "      <td>1</td>\n",
       "      <td>0</td>\n",
       "      <td>0</td>\n",
       "      <td>0</td>\n",
       "      <td>0</td>\n",
       "      <td>0</td>\n",
       "      <td>0</td>\n",
       "    </tr>\n",
       "    <tr>\n",
       "      <th>9997</th>\n",
       "      <td>0</td>\n",
       "      <td>0</td>\n",
       "      <td>0</td>\n",
       "      <td>0</td>\n",
       "      <td>0</td>\n",
       "      <td>0</td>\n",
       "      <td>0</td>\n",
       "      <td>0</td>\n",
       "      <td>0</td>\n",
       "      <td>1</td>\n",
       "      <td>...</td>\n",
       "      <td>0</td>\n",
       "      <td>0</td>\n",
       "      <td>0</td>\n",
       "      <td>1</td>\n",
       "      <td>0</td>\n",
       "      <td>0</td>\n",
       "      <td>0</td>\n",
       "      <td>0</td>\n",
       "      <td>0</td>\n",
       "      <td>0</td>\n",
       "    </tr>\n",
       "    <tr>\n",
       "      <th>9998</th>\n",
       "      <td>0</td>\n",
       "      <td>0</td>\n",
       "      <td>0</td>\n",
       "      <td>0</td>\n",
       "      <td>0</td>\n",
       "      <td>0</td>\n",
       "      <td>0</td>\n",
       "      <td>0</td>\n",
       "      <td>0</td>\n",
       "      <td>1</td>\n",
       "      <td>...</td>\n",
       "      <td>0</td>\n",
       "      <td>0</td>\n",
       "      <td>0</td>\n",
       "      <td>1</td>\n",
       "      <td>0</td>\n",
       "      <td>0</td>\n",
       "      <td>0</td>\n",
       "      <td>0</td>\n",
       "      <td>0</td>\n",
       "      <td>0</td>\n",
       "    </tr>\n",
       "    <tr>\n",
       "      <th>9999</th>\n",
       "      <td>0</td>\n",
       "      <td>0</td>\n",
       "      <td>0</td>\n",
       "      <td>0</td>\n",
       "      <td>0</td>\n",
       "      <td>0</td>\n",
       "      <td>0</td>\n",
       "      <td>0</td>\n",
       "      <td>0</td>\n",
       "      <td>1</td>\n",
       "      <td>...</td>\n",
       "      <td>0</td>\n",
       "      <td>0</td>\n",
       "      <td>0</td>\n",
       "      <td>1</td>\n",
       "      <td>0</td>\n",
       "      <td>0</td>\n",
       "      <td>0</td>\n",
       "      <td>0</td>\n",
       "      <td>0</td>\n",
       "      <td>0</td>\n",
       "    </tr>\n",
       "  </tbody>\n",
       "</table>\n",
       "<p>10000 rows × 768 columns</p>\n",
       "</div>"
      ],
      "text/plain": [
       "      0    1    2    3    4    5    6    7    8    9    ...  758  759  760  \\\n",
       "0       0    0    0    0    0    0    0    0    1    1  ...    0    0    0   \n",
       "1       0    0    0    0    0    0    0    0    1    1  ...    0    0    0   \n",
       "2       0    0    0    0    0    0    0    0    1    1  ...    0    0    0   \n",
       "3       0    0    0    0    0    0    0    0    1    1  ...    0    0    0   \n",
       "4       0    0    0    0    0    0    0    0    1    1  ...    0    0    0   \n",
       "...   ...  ...  ...  ...  ...  ...  ...  ...  ...  ...  ...  ...  ...  ...   \n",
       "9995    0    0    0    0    0    0    0    0    0    1  ...    0    0    0   \n",
       "9996    0    0    0    0    0    0    0    0    0    1  ...    0    0    0   \n",
       "9997    0    0    0    0    0    0    0    0    0    1  ...    0    0    0   \n",
       "9998    0    0    0    0    0    0    0    0    0    1  ...    0    0    0   \n",
       "9999    0    0    0    0    0    0    0    0    0    1  ...    0    0    0   \n",
       "\n",
       "      761  762  763  764  765  766  767  \n",
       "0       0    0    1    0    0    0    0  \n",
       "1       0    0    1    0    0    0    0  \n",
       "2       0    0    1    0    0    0    0  \n",
       "3       0    0    1    0    0    0    0  \n",
       "4       0    0    1    0    0    0    0  \n",
       "...   ...  ...  ...  ...  ...  ...  ...  \n",
       "9995    1    0    0    0    0    0    0  \n",
       "9996    1    0    0    0    0    0    0  \n",
       "9997    1    0    0    0    0    0    0  \n",
       "9998    1    0    0    0    0    0    0  \n",
       "9999    1    0    0    0    0    0    0  \n",
       "\n",
       "[10000 rows x 768 columns]"
      ]
     },
     "execution_count": 58,
     "metadata": {},
     "output_type": "execute_result"
    }
   ],
   "source": [
    "bity"
   ]
  },
  {
   "cell_type": "code",
   "execution_count": 61,
   "id": "e33a3222-e568-4cd5-8601-ada79e37652b",
   "metadata": {},
   "outputs": [
    {
     "data": {
      "text/html": [
       "<div>\n",
       "<style scoped>\n",
       "    .dataframe tbody tr th:only-of-type {\n",
       "        vertical-align: middle;\n",
       "    }\n",
       "\n",
       "    .dataframe tbody tr th {\n",
       "        vertical-align: top;\n",
       "    }\n",
       "\n",
       "    .dataframe thead th {\n",
       "        text-align: right;\n",
       "    }\n",
       "</style>\n",
       "<table border=\"1\" class=\"dataframe\">\n",
       "  <thead>\n",
       "    <tr style=\"text-align: right;\">\n",
       "      <th></th>\n",
       "      <th>768</th>\n",
       "    </tr>\n",
       "  </thead>\n",
       "  <tbody>\n",
       "    <tr>\n",
       "      <th>0</th>\n",
       "      <td>1</td>\n",
       "    </tr>\n",
       "    <tr>\n",
       "      <th>1</th>\n",
       "      <td>1</td>\n",
       "    </tr>\n",
       "    <tr>\n",
       "      <th>2</th>\n",
       "      <td>1</td>\n",
       "    </tr>\n",
       "    <tr>\n",
       "      <th>3</th>\n",
       "      <td>1</td>\n",
       "    </tr>\n",
       "    <tr>\n",
       "      <th>4</th>\n",
       "      <td>1</td>\n",
       "    </tr>\n",
       "    <tr>\n",
       "      <th>...</th>\n",
       "      <td>...</td>\n",
       "    </tr>\n",
       "    <tr>\n",
       "      <th>9995</th>\n",
       "      <td>1</td>\n",
       "    </tr>\n",
       "    <tr>\n",
       "      <th>9996</th>\n",
       "      <td>0</td>\n",
       "    </tr>\n",
       "    <tr>\n",
       "      <th>9997</th>\n",
       "      <td>0</td>\n",
       "    </tr>\n",
       "    <tr>\n",
       "      <th>9998</th>\n",
       "      <td>0</td>\n",
       "    </tr>\n",
       "    <tr>\n",
       "      <th>9999</th>\n",
       "      <td>0</td>\n",
       "    </tr>\n",
       "  </tbody>\n",
       "</table>\n",
       "<p>10000 rows × 1 columns</p>\n",
       "</div>"
      ],
      "text/plain": [
       "      768\n",
       "0       1\n",
       "1       1\n",
       "2       1\n",
       "3       1\n",
       "4       1\n",
       "...   ...\n",
       "9995    1\n",
       "9996    0\n",
       "9997    0\n",
       "9998    0\n",
       "9999    0\n",
       "\n",
       "[10000 rows x 1 columns]"
      ]
     },
     "execution_count": 61,
     "metadata": {},
     "output_type": "execute_result"
    }
   ],
   "source": [
    "k10.rename(columns={\"draw\": 768})"
   ]
  },
  {
   "cell_type": "code",
   "execution_count": 64,
   "id": "9cdd5d93-22ed-43de-b028-6b991aa1bc3c",
   "metadata": {},
   "outputs": [],
   "source": [
    "pd.concat([bity, k10.rename(columns={\"draw\": 768})], axis=1).to_csv(\"dataset_bits.csv\", sep=\";\", index=False)"
   ]
  },
  {
   "cell_type": "code",
   "execution_count": 49,
   "id": "f40af387-b4be-44bc-b523-5a4beb69ded2",
   "metadata": {},
   "outputs": [
    {
     "data": {
      "text/plain": [
       "0       1\n",
       "1       1\n",
       "2       1\n",
       "3       1\n",
       "4       1\n",
       "       ..\n",
       "9995    1\n",
       "9996    0\n",
       "9997    0\n",
       "9998    0\n",
       "9999    0\n",
       "Name: draw, Length: 10000, dtype: uint64"
      ]
     },
     "execution_count": 49,
     "metadata": {},
     "output_type": "execute_result"
    }
   ],
   "source": [
    "k10['draw']"
   ]
  }
 ],
 "metadata": {
  "kernelspec": {
   "display_name": "nn-snake",
   "language": "python",
   "name": "nn-snake"
  },
  "language_info": {
   "codemirror_mode": {
    "name": "ipython",
    "version": 3
   },
   "file_extension": ".py",
   "mimetype": "text/x-python",
   "name": "python",
   "nbconvert_exporter": "python",
   "pygments_lexer": "ipython3",
   "version": "3.11.2"
  }
 },
 "nbformat": 4,
 "nbformat_minor": 5
}
