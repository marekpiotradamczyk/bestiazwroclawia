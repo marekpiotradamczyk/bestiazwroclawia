{
 "cells": [
  {
   "cell_type": "code",
   "id": "initial_id",
   "metadata": {
    "collapsed": true,
    "ExecuteTime": {
     "end_time": "2024-05-02T22:10:58.852513Z",
     "start_time": "2024-05-02T22:10:58.848043Z"
    }
   },
   "source": [
    "import torch\n",
    "import torch.nn as nn\n",
    "import torch.optim as optim\n",
    "import numpy as np\n",
    "import pandas as pd\n",
    "from datetime import datetime\n",
    "from torch.utils.data import Dataset, DataLoader, random_split"
   ],
   "outputs": [],
   "execution_count": 199
  },
  {
   "metadata": {
    "ExecuteTime": {
     "end_time": "2024-05-02T20:12:42.547712Z",
     "start_time": "2024-05-02T20:12:40.567450Z"
    }
   },
   "cell_type": "code",
   "source": [
    "DATA_DIR = \"data/\"\n",
    "STOCKFISH_DIR = 'stockfish/'\n",
    "ARCHIVE_DIR = DATA_DIR + 'archives/'\n",
    "BITBOARD_DIR = DATA_DIR + 'bitboards/'\n",
    "ELITE_DATA_BASE_URL  = \"https://database.nikonoel.fr/\"\n",
    "STOCKFISH_DOWNSTREAM = \"https://github.com/official-stockfish/Stockfish/releases/latest/download/\"\n",
    "\n",
    "SAMPLE_ZIP = \"lichess_elite_2021-11.zip\"\n",
    "SAMPLE_PGN = \"lichess_elite_2021-11.pgn\"\n",
    "SAMPLE_BITBOARD = \"elite_bitboard.csv\"\n",
    "ELITE_DATA_SAMPLE_URL = ELITE_DATA_BASE_URL + SAMPLE_ZIP\n",
    "SAMPLE_ZIP_FILE = ARCHIVE_DIR + SAMPLE_ZIP\n",
    "SAMPLE_PGN_FILE  = DATA_DIR + SAMPLE_PGN\n",
    "\n",
    "STOCKFISH_AVX512_TAR = \"stockfish-ubuntu-x86-64-avx512.tar\"\n",
    "STOCKFISH_AVX512 = \"stockfish-ubuntu-x86-64-avx512\"\n",
    "STOCKFISH_AVX512_URL = STOCKFISH_DOWNSTREAM + STOCKFISH_AVX512_TAR\n",
    "STOCKFISH_AVX512_EXE = STOCKFISH_DIR + STOCKFISH_AVX512\n",
    "\n",
    "SAMPLE_BITBOARD_FILE = BITBOARD_DIR + SAMPLE_BITBOARD\n",
    "\n",
    "device = torch.device('cuda') if torch.cuda.is_available() else torch.device('cpu')"
   ],
   "id": "b13750a6be5e8a69",
   "outputs": [],
   "execution_count": 2
  },
  {
   "metadata": {
    "ExecuteTime": {
     "end_time": "2024-05-02T20:13:35.983528Z",
     "start_time": "2024-05-02T20:13:35.871193Z"
    }
   },
   "cell_type": "code",
   "source": "metadata_df = pd.read_csv(SAMPLE_BITBOARD_FILE, sep=\";\", dtype=\"int64\", usecols=range(12, 14))['draw']",
   "id": "a95d971754d134fb",
   "outputs": [],
   "execution_count": 10
  },
  {
   "metadata": {
    "ExecuteTime": {
     "end_time": "2024-05-02T20:13:38.231675Z",
     "start_time": "2024-05-02T20:13:38.223344Z"
    }
   },
   "cell_type": "code",
   "source": "metadata_df.to_numpy(dtype=np.single).dtype",
   "id": "6c22c9478738be90",
   "outputs": [
    {
     "data": {
      "text/plain": [
       "dtype('float32')"
      ]
     },
     "execution_count": 12,
     "metadata": {},
     "output_type": "execute_result"
    }
   ],
   "execution_count": 12
  },
  {
   "metadata": {
    "ExecuteTime": {
     "end_time": "2024-05-02T20:20:25.093854Z",
     "start_time": "2024-05-02T20:20:25.087911Z"
    }
   },
   "cell_type": "code",
   "source": [
    "class BitboardDrawDataset(Dataset):\n",
    "    def __init__(self, bitboard_file):\n",
    "        bitboards_df = pd.read_csv(bitboard_file, sep=\";\", dtype=\"uint64\", usecols=range(12))\n",
    "        metadata_df = pd.read_csv(bitboard_file, sep=\";\", dtype=\"int64\", usecols=range(12, 14))\n",
    "\n",
    "        self.bitboards = np.unpackbits(np.ascontiguousarray(bitboards_df.to_numpy()).view(np.uint8), axis=1).astype(np.single)\n",
    "        self.is_draw = metadata_df['draw'].to_numpy(dtype=np.single)\n",
    "        self.length = self.is_draw.size\n",
    "\n",
    "    def __len__(self):\n",
    "        return self.length\n",
    "\n",
    "    def __getitem__(self, idx):\n",
    "        return self.bitboards[idx], self.is_draw[idx]"
   ],
   "id": "608b0930c754cabd",
   "outputs": [],
   "execution_count": 23
  },
  {
   "metadata": {
    "ExecuteTime": {
     "end_time": "2024-05-02T20:20:26.731077Z",
     "start_time": "2024-05-02T20:20:26.415957Z"
    }
   },
   "cell_type": "code",
   "source": "dataset = BitboardDrawDataset(SAMPLE_BITBOARD_FILE)  ",
   "id": "1c3cf4cb963140f9",
   "outputs": [],
   "execution_count": 24
  },
  {
   "metadata": {
    "ExecuteTime": {
     "end_time": "2024-05-02T20:20:38.165352Z",
     "start_time": "2024-05-02T20:20:38.159537Z"
    }
   },
   "cell_type": "code",
   "source": "dataloader = DataLoader(dataset, batch_size=64, shuffle=True, pin_memory=True, pin_memory_device=device.type)",
   "id": "1ce2e29cc5e62d53",
   "outputs": [],
   "execution_count": 26
  },
  {
   "metadata": {
    "ExecuteTime": {
     "end_time": "2024-05-02T22:19:55.149936Z",
     "start_time": "2024-05-02T22:19:55.145740Z"
    }
   },
   "cell_type": "code",
   "source": [
    "class SimpleModel(nn.Module):\n",
    "    \n",
    "    def __init__(self):\n",
    "        super().__init__()\n",
    "        self.model = nn.Sequential(\n",
    "            nn.Linear(768, 2000),\n",
    "            nn.BatchNorm1d(2000),\n",
    "            nn.ReLU(),\n",
    "            nn.Dropout(p=0.5),\n",
    "            nn.Linear(2000, 256),\n",
    "            nn.BatchNorm1d(256),\n",
    "            nn.ReLU(),\n",
    "            nn.Dropout(p=0.5),\n",
    "            nn.Linear(256, 1)\n",
    "        )\n",
    "        \n",
    "    def forward(self, x):\n",
    "        return self.model.forward(x)        \n",
    "        "
   ],
   "id": "7510158a4693f09d",
   "outputs": [],
   "execution_count": 203
  },
  {
   "metadata": {
    "ExecuteTime": {
     "end_time": "2024-05-02T22:19:57.336246Z",
     "start_time": "2024-05-02T22:19:57.327358Z"
    }
   },
   "cell_type": "code",
   "source": [
    "class Train:\n",
    "    \n",
    "    def __init__(self):\n",
    "        self.train_dataset, self.validate_dataset = random_split(BitboardDrawDataset(SAMPLE_BITBOARD_FILE), [90000, 10000])\n",
    "        self.train_dataloader = DataLoader(self.train_dataset, batch_size=64, shuffle=True, pin_memory=True, pin_memory_device=device.type)\n",
    "        self.validate_dataloader = DataLoader(self.validate_dataset, batch_size=64, shuffle=True, pin_memory=True, pin_memory_device=device.type)\n",
    "        self.model = SimpleModel()\n",
    "        self.optimizer = optim.SGD(self.model.parameters(), lr=0.01, momentum=0.9)\n",
    "        self.loss_fn = nn.BCEWithLogitsLoss()\n",
    "        self.model.to(device)\n",
    "        self.total_batches = len(self.train_dataloader)\n",
    "        self.print_every = 100\n",
    "        \n",
    "    def train_one_epoch(self) -> int:\n",
    "        running_loss = 0.\n",
    "        last_loss = 0.\n",
    "    \n",
    "        for i, data in enumerate(self.train_dataloader):\n",
    "            inputs, labels = data\n",
    "            inputs, labels = inputs.to(device), labels.unsqueeze(1).to(device)\n",
    "    \n",
    "            self.optimizer.zero_grad()\n",
    "            \n",
    "            outputs = self.model(inputs)\n",
    "            \n",
    "            loss = self.loss_fn(outputs, labels)\n",
    "            loss.backward()\n",
    "            self.optimizer.step()\n",
    "    \n",
    "            running_loss += loss.item()\n",
    "            if i % self.print_every == self.print_every - 1:\n",
    "                last_loss = running_loss / self.print_every\n",
    "                # print(f\"  batch {i+1} loss: {last_loss}\")\n",
    "                running_loss = 0.\n",
    "            elif i == self.total_batches - 1:\n",
    "                last_loss = running_loss / (i % self.print_every + 1)\n",
    "                # print(f\"  batch {i+1} loss: {last_loss}\")\n",
    "            \n",
    "        return last_loss\n",
    "    \n",
    "    def train(self, epochs):\n",
    "        best_vloss = np.inf\n",
    "        timestamp = datetime.now().strftime('%Y%m%d_%H%M%S')\n",
    "    \n",
    "        for epoch in range(1, epochs + 1):\n",
    "            print(f'EPOCH {epoch}')\n",
    "        \n",
    "            # Make sure gradient tracking is on, and do a pass over the data\n",
    "            self.model.train(True)\n",
    "            avg_loss = self.train_one_epoch()\n",
    "        \n",
    "            running_vloss = 0.0\n",
    "            self.model.eval()\n",
    "        \n",
    "            with torch.no_grad():\n",
    "                acc = 0\n",
    "                for i, vdata in enumerate(self.validate_dataloader):\n",
    "                    vinputs, vlabels = vdata\n",
    "                    vinputs, vlabels = vinputs.to(device), vlabels.unsqueeze(1).to(device)\n",
    "                    voutputs = self.model(vinputs)\n",
    "                    pred = nn.functional.sigmoid(voutputs)\n",
    "                    acc += (pred.round() == vlabels).sum()\n",
    "                    vloss = self.loss_fn(voutputs, vlabels)\n",
    "                    running_vloss += vloss\n",
    "            acc = acc / len(self.validate_dataset)\n",
    "            avg_vloss = running_vloss / (i + 1)\n",
    "            print(f\"LOSS train {avg_loss} valid {avg_vloss}\")\n",
    "            print(f\"ACC {(acc * 100):.2f}%\")\n",
    "        \n",
    "            if avg_vloss < best_vloss:\n",
    "                best_vloss = avg_vloss\n",
    "                model_path = f\"model_{timestamp}_{epoch}\"\n",
    "                torch.save(self.model.state_dict(), model_path)\n",
    "        "
   ],
   "id": "87ecc2ce56ba7086",
   "outputs": [],
   "execution_count": 204
  },
  {
   "metadata": {
    "ExecuteTime": {
     "end_time": "2024-05-02T22:19:58.774776Z",
     "start_time": "2024-05-02T22:19:58.502986Z"
    }
   },
   "cell_type": "code",
   "source": "pipe = Train()",
   "id": "7d127284d2ecc0b3",
   "outputs": [],
   "execution_count": 205
  },
  {
   "metadata": {
    "ExecuteTime": {
     "end_time": "2024-05-02T22:23:17.655784Z",
     "start_time": "2024-05-02T22:20:00.382626Z"
    }
   },
   "cell_type": "code",
   "source": "pipe.train(50)",
   "id": "b28464852583617f",
   "outputs": [
    {
     "name": "stdout",
     "output_type": "stream",
     "text": [
      "EPOCH 1\n",
      "LOSS train 0.5031549675124032 valid 0.5284397006034851\n",
      "ACC 73.54%\n",
      "EPOCH 2\n",
      "LOSS train 0.5292552879878453 valid 0.48217472434043884\n",
      "ACC 76.75%\n",
      "EPOCH 3\n",
      "LOSS train 0.4683122677462442 valid 0.44431421160697937\n",
      "ACC 79.50%\n",
      "EPOCH 4\n",
      "LOSS train 0.4317083401339395 valid 0.41948866844177246\n",
      "ACC 80.18%\n",
      "EPOCH 5\n",
      "LOSS train 0.4360984095505306 valid 0.4067915678024292\n",
      "ACC 81.49%\n",
      "EPOCH 6\n",
      "LOSS train 0.48176683698381695 valid 0.38727742433547974\n",
      "ACC 82.11%\n",
      "EPOCH 7\n",
      "LOSS train 0.3506034995828356 valid 0.37940219044685364\n",
      "ACC 82.64%\n",
      "EPOCH 8\n",
      "LOSS train 0.42542765395981924 valid 0.37466031312942505\n",
      "ACC 83.04%\n",
      "EPOCH 9\n",
      "LOSS train 0.3581426015922001 valid 0.36087125539779663\n",
      "ACC 83.74%\n",
      "EPOCH 10\n",
      "LOSS train 0.34757310152053833 valid 0.3533051311969757\n",
      "ACC 84.23%\n",
      "EPOCH 11\n",
      "LOSS train 0.35279917291232515 valid 0.3504669666290283\n",
      "ACC 84.56%\n",
      "EPOCH 12\n",
      "LOSS train 0.40338647791317533 valid 0.35275694727897644\n",
      "ACC 84.28%\n",
      "EPOCH 13\n",
      "LOSS train 0.37180652788707186 valid 0.34645166993141174\n",
      "ACC 85.06%\n",
      "EPOCH 14\n",
      "LOSS train 0.2623283735343388 valid 0.34631019830703735\n",
      "ACC 84.61%\n",
      "EPOCH 15\n",
      "LOSS train 0.35795680965696064 valid 0.3405197262763977\n",
      "ACC 85.23%\n",
      "EPOCH 16\n",
      "LOSS train 0.24005112690585 valid 0.3461504578590393\n",
      "ACC 85.03%\n",
      "EPOCH 17\n",
      "LOSS train 0.33523144892283846 valid 0.3350810706615448\n",
      "ACC 85.65%\n",
      "EPOCH 18\n",
      "LOSS train 0.33455432312829153 valid 0.34459298849105835\n",
      "ACC 84.84%\n",
      "EPOCH 19\n",
      "LOSS train 0.30662972373621805 valid 0.333844393491745\n",
      "ACC 86.08%\n",
      "EPOCH 20\n",
      "LOSS train 0.34647284873894285 valid 0.3343653380870819\n",
      "ACC 85.38%\n",
      "EPOCH 21\n",
      "LOSS train 0.26745576517922537 valid 0.3271186351776123\n",
      "ACC 86.06%\n",
      "EPOCH 22\n",
      "LOSS train 0.3062803340809686 valid 0.33048930764198303\n",
      "ACC 86.51%\n",
      "EPOCH 23\n",
      "LOSS train 0.22546052719865525 valid 0.32523131370544434\n",
      "ACC 86.22%\n",
      "EPOCH 24\n",
      "LOSS train 0.287101468869618 valid 0.3320510685443878\n",
      "ACC 86.01%\n",
      "EPOCH 25\n",
      "LOSS train 0.2623245290347508 valid 0.33098283410072327\n",
      "ACC 86.46%\n",
      "EPOCH 26\n",
      "LOSS train 0.3139772947345461 valid 0.32798051834106445\n",
      "ACC 86.38%\n",
      "EPOCH 27\n",
      "LOSS train 0.2566311891589846 valid 0.32692787051200867\n",
      "ACC 86.20%\n",
      "EPOCH 28\n",
      "LOSS train 0.25075341548238483 valid 0.3258953392505646\n",
      "ACC 86.75%\n",
      "EPOCH 29\n",
      "LOSS train 0.26150565487997873 valid 0.3272223472595215\n",
      "ACC 86.60%\n",
      "EPOCH 30\n",
      "LOSS train 0.3170007509844644 valid 0.32793769240379333\n",
      "ACC 86.55%\n",
      "EPOCH 31\n",
      "LOSS train 0.3362652765853064 valid 0.3311779499053955\n",
      "ACC 86.61%\n",
      "EPOCH 32\n",
      "LOSS train 0.3525329998561314 valid 0.33117976784706116\n",
      "ACC 86.41%\n",
      "EPOCH 33\n",
      "LOSS train 0.23800150624343328 valid 0.3242108225822449\n",
      "ACC 86.94%\n",
      "EPOCH 34\n",
      "LOSS train 0.1953602699296815 valid 0.32569605112075806\n",
      "ACC 86.59%\n",
      "EPOCH 35\n",
      "LOSS train 0.26219365852219717 valid 0.3295586407184601\n",
      "ACC 86.55%\n",
      "EPOCH 36\n",
      "LOSS train 0.2585186245185988 valid 0.3262491822242737\n",
      "ACC 87.13%\n",
      "EPOCH 37\n",
      "LOSS train 0.2465544960328511 valid 0.33106961846351624\n",
      "ACC 86.68%\n",
      "EPOCH 38\n",
      "LOSS train 0.319285375731332 valid 0.3273963928222656\n",
      "ACC 86.93%\n",
      "EPOCH 39\n",
      "LOSS train 0.272237377507346 valid 0.3256615102291107\n",
      "ACC 87.15%\n",
      "EPOCH 40\n",
      "LOSS train 0.26953499019145966 valid 0.3310607671737671\n",
      "ACC 87.06%\n",
      "EPOCH 41\n",
      "LOSS train 0.17066240310668945 valid 0.33386725187301636\n",
      "ACC 86.78%\n",
      "EPOCH 42\n",
      "LOSS train 0.27144327759742737 valid 0.32456833124160767\n",
      "ACC 87.36%\n",
      "EPOCH 43\n",
      "LOSS train 0.2262865070785795 valid 0.3315831124782562\n",
      "ACC 86.84%\n",
      "EPOCH 44\n",
      "LOSS train 0.28324663639068604 valid 0.3352692723274231\n",
      "ACC 87.51%\n",
      "EPOCH 45\n",
      "LOSS train 0.20441115541117533 valid 0.3277519941329956\n",
      "ACC 87.24%\n",
      "EPOCH 46\n",
      "LOSS train 0.27976594652448383 valid 0.33399686217308044\n",
      "ACC 87.03%\n",
      "EPOCH 47\n",
      "LOSS train 0.22948498598166875 valid 0.3371424376964569\n",
      "ACC 86.66%\n",
      "EPOCH 48\n",
      "LOSS train 0.2319747039249965 valid 0.32812973856925964\n",
      "ACC 87.27%\n",
      "EPOCH 49\n",
      "LOSS train 0.17907623095171793 valid 0.33428385853767395\n",
      "ACC 87.37%\n",
      "EPOCH 50\n",
      "LOSS train 0.25982346279280527 valid 0.33357036113739014\n",
      "ACC 86.56%\n"
     ]
    }
   ],
   "execution_count": 206
  },
  {
   "metadata": {
    "ExecuteTime": {
     "end_time": "2024-05-02T22:45:59.037151Z",
     "start_time": "2024-05-02T22:45:59.017620Z"
    }
   },
   "cell_type": "code",
   "source": "m = torch.load(\"model_20240503_002000_33\")",
   "id": "c652450cc18d67fa",
   "outputs": [],
   "execution_count": 207
  },
  {
   "metadata": {},
   "cell_type": "code",
   "outputs": [],
   "execution_count": null,
   "source": "",
   "id": "f69e35d29a4402d1"
  }
 ],
 "metadata": {
  "kernelspec": {
   "display_name": "Python 3",
   "language": "python",
   "name": "python3"
  },
  "language_info": {
   "codemirror_mode": {
    "name": "ipython",
    "version": 2
   },
   "file_extension": ".py",
   "mimetype": "text/x-python",
   "name": "python",
   "nbconvert_exporter": "python",
   "pygments_lexer": "ipython2",
   "version": "2.7.6"
  }
 },
 "nbformat": 4,
 "nbformat_minor": 5
}
