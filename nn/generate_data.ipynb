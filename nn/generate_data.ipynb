{
 "cells": [
  {
   "cell_type": "code",
   "execution_count": 31,
   "id": "1ef9941165adf2c4",
   "metadata": {
    "ExecuteTime": {
     "end_time": "2024-05-02T19:02:47.127650Z",
     "start_time": "2024-05-02T19:02:46.722633Z"
    }
   },
   "outputs": [],
   "source": [
    "import chess\n",
    "import chess.pgn\n",
    "import chess.engine\n",
    "import io\n",
    "\n",
    "import numpy as np\n",
    "from tqdm.auto import tqdm\n",
    "import pandas as pd"
   ]
  },
  {
   "cell_type": "code",
   "execution_count": 32,
   "id": "10d38c578b38814",
   "metadata": {
    "ExecuteTime": {
     "end_time": "2024-05-02T19:02:47.696148Z",
     "start_time": "2024-05-02T19:02:47.690610Z"
    }
   },
   "outputs": [],
   "source": [
    "DATA_DIR = \"data/\"\n",
    "STOCKFISH_DIR = 'stockfish/'\n",
    "ARCHIVE_DIR = DATA_DIR + 'archives/'\n",
    "BITBOARD_DIR = DATA_DIR + 'bitboards/'\n",
    "ELITE_DATA_BASE_URL  = \"https://database.nikonoel.fr/\"\n",
    "STOCKFISH_DOWNSTREAM = \"https://github.com/official-stockfish/Stockfish/releases/latest/download/\"\n",
    "\n",
    "SAMPLE_ZIP = \"lichess_elite_2021-11.zip\"\n",
    "SAMPLE_PGN = \"lichess_elite_2021-11.pgn\"\n",
    "SAMPLE_BITBOARD = \"elite_bitboard.csv\"\n",
    "ELITE_DATA_SAMPLE_URL = ELITE_DATA_BASE_URL + SAMPLE_ZIP\n",
    "SAMPLE_ZIP_FILE = ARCHIVE_DIR + SAMPLE_ZIP\n",
    "SAMPLE_PGN_FILE  = DATA_DIR + SAMPLE_PGN\n",
    "\n",
    "STOCKFISH_AVX512_TAR = \"stockfish-ubuntu-x86-64-avx512.tar\"\n",
    "STOCKFISH_AVX512 = \"stockfish-ubuntu-x86-64-avx512\"\n",
    "STOCKFISH_AVX512_URL = STOCKFISH_DOWNSTREAM + STOCKFISH_AVX512_TAR\n",
    "STOCKFISH_AVX512_EXE = STOCKFISH_DIR + STOCKFISH_AVX512\n",
    "\n",
    "SAMPLE_BITBOARD_FILE = BITBOARD_DIR + SAMPLE_BITBOARD "
   ]
  },
  {
   "cell_type": "code",
   "execution_count": 33,
   "id": "initial_id",
   "metadata": {
    "ExecuteTime": {
     "end_time": "2024-05-01T10:36:49.950228Z",
     "start_time": "2024-05-01T10:36:49.732479Z"
    }
   },
   "outputs": [],
   "source": [
    "![ ! -f $SAMPLE_ZIP_FILE ] && wget $ELITE_DATA_SAMPLE_URL -P $ARCHIVE_DIR\n",
    "![ ! -f $SAMPLE_PGN_FILE ] && unzip $SAMPLE_ZIP_FILE -d $DATA_DIR"
   ]
  },
  {
   "cell_type": "code",
   "execution_count": 34,
   "id": "4b50830b334892a9",
   "metadata": {
    "ExecuteTime": {
     "end_time": "2024-05-01T10:39:53.876216Z",
     "start_time": "2024-05-01T10:39:53.660807Z"
    }
   },
   "outputs": [],
   "source": [
    "![ ! -f $STOCKFISH_AVX512_TAR ] && wget $STOCKFISH_AVX512_URL\n",
    "![ ! -f $STOCKFISH_AVX512_EXE ] && tar -xf $STOCKFISH_AVX512_TAR"
   ]
  },
  {
   "cell_type": "code",
   "execution_count": 66,
   "id": "63ca2cd8226ab9f0",
   "metadata": {
    "ExecuteTime": {
     "end_time": "2024-05-01T09:56:50.114488Z",
     "start_time": "2024-05-01T09:56:50.110053Z"
    }
   },
   "outputs": [],
   "source": [
    "class PGNProvider:\n",
    "    \n",
    "    def __init__(self, path : str, skip : int = 0):\n",
    "        c = 0\n",
    "        for line in open(path, \"r\"):\n",
    "            if line == '\\n':\n",
    "                c += 1\n",
    "        \n",
    "        self.len = (c + 1) // 2\n",
    "        self.read_count = 0\n",
    "        self.pgn_file = open(path, \"r\")\n",
    "\n",
    "        if skip >= self.len:\n",
    "            raise Exception(\"Not enough games to skip\")\n",
    "        \n",
    "        for _ in range(skip):\n",
    "            while self.pgn_file.readline() != '\\n': pass\n",
    "            while self.pgn_file.readline() != '\\n': pass\n",
    "            self.len -= 1\n",
    "    \n",
    "    def __iter__(self):\n",
    "        return self\n",
    "    \n",
    "    def __len__(self):\n",
    "        return self.len\n",
    "    \n",
    "    def __next__(self):\n",
    "        pgn_string = \"\"\n",
    "        c = False\n",
    "\n",
    "        while True:\n",
    "            line = self.pgn_file.readline()\n",
    "            \n",
    "            if line == '':\n",
    "                raise StopIteration\n",
    "            \n",
    "            if (c and line == '\\n') or line == '':\n",
    "                break\n",
    "            elif line == '\\n':\n",
    "                c = True\n",
    "            pgn_string += line   \n",
    "        self.read_count += 1\n",
    "        return pgn_string\n",
    "    \n",
    "    def __str__(self):\n",
    "        return f\"Read positions : {self.read_count} Limit : {self.limit} PGN file : {self.pgn_file}\""
   ]
  },
  {
   "cell_type": "code",
   "execution_count": 67,
   "id": "4a92cda6044d7d19",
   "metadata": {
    "ExecuteTime": {
     "end_time": "2024-05-01T12:19:45.094664Z",
     "start_time": "2024-05-01T12:19:43.542251Z"
    }
   },
   "outputs": [],
   "source": [
    "class DataGenerator:\n",
    "\n",
    "    def __init__(self, pgn_path : str, engine_path : str, pos_limit : int, skip : int = 0, avoid_repetitions : bool = True):\n",
    "        self.pgn_file = pgn_path\n",
    "        self.pos_limit = pos_limit\n",
    "        self.avoid_repetitions = avoid_repetitions\n",
    "        self.pgn_provider = PGNProvider(pgn_path, skip=skip)\n",
    "        self.signatures = set()\n",
    "        self.pos_total = 0\n",
    "        self.pos_written = 0\n",
    "        self.games = 0\n",
    "        self.engine = chess.engine.SimpleEngine.popen_uci(engine_path)\n",
    "        self.engine.configure({\"Threads\" : 16, \"Hash\" : 1024})\n",
    "\n",
    "    def write(self, out_file : str):\n",
    "        print(\"Writing header...\")\n",
    "        self.write_header(out_file)\n",
    "        print(\"Done\")\n",
    "        print(\"Writing boards...\")\n",
    "        with tqdm(total=self.pos_limit, position=0, leave=True, desc=\"Positions\") as pbar:\n",
    "            for game_str in self.pgn_provider:\n",
    "                game = chess.pgn.read_game(io.StringIO(game_str))\n",
    "                pos_count = self.write_positions_from_game(out_file, game)\n",
    "                self.games += 1 if pos_count > 0 else 0\n",
    "                pbar.update(pos_count)\n",
    "                if self.pos_written >= self.pos_limit: break\n",
    "        print(\"Done\")\n",
    "        print(f\"Read {self.pos_total} positions total\")\n",
    "        print(f\"Written {self.pos_written} positions\")\n",
    "        print(f\"Games : {self.games}\")\n",
    "\n",
    "    def write_positions_from_game(self, out_file, game : chess.pgn.Game) -> int:\n",
    "        pos_count = 0\n",
    "        while game.next() is not None:\n",
    "            self.pos_total += 1\n",
    "            pos_count += self.write_pos(out_file, game)\n",
    "            if self.pos_written >= self.pos_limit: break\n",
    "            game = game.next()\n",
    "        return pos_count\n",
    "\n",
    "    def write_header(self, out_file : str) -> None:\n",
    "        header = []\n",
    "        for side in chess.COLORS:\n",
    "            for piece in chess.PIECE_TYPES:\n",
    "                curr_piece = chess.piece_symbol(piece)\n",
    "                if side == chess.WHITE:\n",
    "                    header.append(curr_piece.upper())\n",
    "                else:\n",
    "                    header.append(curr_piece)\n",
    "        header += [\"score\", \"draw\", \"fen\"]\n",
    "        with open(out_file, \"w\") as f:\n",
    "            f.write(\";\".join(header) + \"\\n\")\n",
    "\n",
    "    def write_pos(self, out_file : str, game : chess.pgn.Game) -> int:\n",
    "        content = []\n",
    "        bitboards = self.pgn_to_bitboard(game)\n",
    "        if bitboards in self.signatures:\n",
    "            return 0\n",
    "        self.signatures.add(bitboards)        \n",
    "        info = self.engine.analyse(game.board(), chess.engine.Limit(time=0.1))\n",
    "        score = info['score']\n",
    "        if score.is_mate():\n",
    "            return 0\n",
    "        fen = game.board().fen()\n",
    "        score = score.relative.score()\n",
    "        draw = 1 if -50 <= score <= 50 else 0\n",
    "        \n",
    "        for bitboard in bitboards:\n",
    "            content.append(str(bitboard))\n",
    "        content += [str(score), str(draw), fen]\n",
    "        with open(out_file, \"a\") as f:\n",
    "            f.write(\";\".join(content) + \"\\n\")\n",
    "        self.pos_written += 1\n",
    "        return 1\n",
    "    \n",
    "    def pgn_to_bitboard(self, game : chess.pgn.Game) -> tuple[int]:\n",
    "        result = []\n",
    "        for side in chess.COLORS:\n",
    "            for piece in chess.PIECE_TYPES:\n",
    "                result.append(int(game.board().pieces(piece, side)))\n",
    "        return tuple(result)\n",
    "\n",
    "data_generator = DataGenerator(SAMPLE_PGN_FILE, STOCKFISH_AVX512_EXE, skip=144100, pos_limit=10000)"
   ]
  },
  {
   "cell_type": "code",
   "execution_count": 297,
   "id": "4d13fccf2bb2762",
   "metadata": {
    "ExecuteTime": {
     "end_time": "2024-05-01T21:16:57.375750Z",
     "start_time": "2024-05-01T21:16:57.373470Z"
    }
   },
   "outputs": [],
   "source": [
    "# data_generator.write(SAMPLE_BITBOARD_FILE)\n",
    "# Writing header...\n",
    "# Done\n",
    "# Writing boards...\n",
    "# \n",
    "# Positions:   0%|          | 0/100000 [00:00<?, ?it/s]\n",
    "# Done\n",
    "# Read 117526 positions total\n",
    "# Written 100000 positions\n",
    "# Games : 1441\n"
   ]
  },
  {
   "cell_type": "code",
   "execution_count": 68,
   "id": "b64100f5-972a-4a89-9a72-310438130894",
   "metadata": {},
   "outputs": [
    {
     "name": "stdout",
     "output_type": "stream",
     "text": [
      "Writing header...\n",
      "Done\n",
      "Writing boards...\n"
     ]
    },
    {
     "data": {
      "application/vnd.jupyter.widget-view+json": {
       "model_id": "505069934a6a462e910afb748c80ebc0",
       "version_major": 2,
       "version_minor": 0
      },
      "text/plain": [
       "Positions:   0%|          | 0/10000 [00:00<?, ?it/s]"
      ]
     },
     "metadata": {},
     "output_type": "display_data"
    },
    {
     "name": "stdout",
     "output_type": "stream",
     "text": [
      "Done\n",
      "Read 11180 positions total\n",
      "Written 10000 positions\n",
      "Games : 137\n"
     ]
    }
   ],
   "source": [
    "data_generator.write(SAMPLE_BITBOARD_FILE)"
   ]
  },
  {
   "cell_type": "code",
   "execution_count": 3,
   "id": "41c71f57dbbc41e3",
   "metadata": {
    "ExecuteTime": {
     "end_time": "2024-05-02T19:02:56.291473Z",
     "start_time": "2024-05-02T19:02:55.942310Z"
    }
   },
   "outputs": [],
   "source": [
    "bdf = pd.read_csv(SAMPLE_BITBOARD_FILE, sep=\";\", dtype=\"uint64\", usecols=range(12))\n",
    "metadf = pd.read_csv(SAMPLE_BITBOARD_FILE, sep=\";\", usecols=range(12,15))"
   ]
  },
  {
   "cell_type": "code",
   "execution_count": 9,
   "id": "177d07c4df4da7e8",
   "metadata": {
    "ExecuteTime": {
     "end_time": "2024-05-02T19:04:31.894013Z",
     "start_time": "2024-05-02T19:04:31.884588Z"
    }
   },
   "outputs": [
    {
     "data": {
      "text/plain": [
       "100000"
      ]
     },
     "execution_count": 9,
     "metadata": {},
     "output_type": "execute_result"
    }
   ],
   "source": [
    "metadf['draw'].to_numpy().size"
   ]
  },
  {
   "cell_type": "code",
   "execution_count": 296,
   "id": "2b8d464f0bbd89e0",
   "metadata": {
    "ExecuteTime": {
     "end_time": "2024-05-01T21:16:24.663851Z",
     "start_time": "2024-05-01T21:16:24.659999Z"
    }
   },
   "outputs": [
    {
     "data": {
      "text/plain": [
       "0.36333"
      ]
     },
     "execution_count": 296,
     "metadata": {},
     "output_type": "execute_result"
    }
   ],
   "source": [
    "metadf['draw'].mean()"
   ]
  },
  {
   "cell_type": "code",
   "execution_count": 11,
   "id": "f846b1a0b754b8c2",
   "metadata": {
    "ExecuteTime": {
     "end_time": "2024-05-02T19:26:31.961178Z",
     "start_time": "2024-05-02T19:26:31.955270Z"
    }
   },
   "outputs": [],
   "source": [
    "def pd_bitboard_to_numpy(df : pd.DataFrame) -> np.ndarray :\n",
    "    return np.unpackbits(np.ascontiguousarray(df.to_numpy()).view(np.uint8), axis=1)"
   ]
  },
  {
   "cell_type": "code",
   "execution_count": 12,
   "id": "b3df2f5a6488671d",
   "metadata": {
    "ExecuteTime": {
     "end_time": "2024-05-02T19:26:33.767039Z",
     "start_time": "2024-05-02T19:26:33.727764Z"
    }
   },
   "outputs": [
    {
     "data": {
      "text/plain": [
       "array([[0, 0, 0, ..., 0, 0, 0],\n",
       "       [0, 0, 0, ..., 0, 0, 0],\n",
       "       [0, 0, 0, ..., 0, 0, 0],\n",
       "       ...,\n",
       "       [0, 0, 0, ..., 0, 0, 0],\n",
       "       [0, 0, 0, ..., 0, 0, 0],\n",
       "       [0, 0, 0, ..., 0, 0, 0]], dtype=uint8)"
      ]
     },
     "execution_count": 12,
     "metadata": {},
     "output_type": "execute_result"
    }
   ],
   "source": [
    "pd_bitboard_to_numpy(bdf)"
   ]
  },
  {
   "cell_type": "code",
   "execution_count": 1,
   "id": "b3316851-5a0b-4f77-a792-ad41f53e7dfd",
   "metadata": {},
   "outputs": [
    {
     "ename": "TypeError",
     "evalue": "a bytes-like object is required, not 'str'",
     "output_type": "error",
     "traceback": [
      "\u001b[0;31m---------------------------------------------------------------------------\u001b[0m",
      "\u001b[0;31mTypeError\u001b[0m                                 Traceback (most recent call last)",
      "Cell \u001b[0;32mIn[1], line 2\u001b[0m\n\u001b[1;32m      1\u001b[0m \u001b[38;5;28;01mwith\u001b[39;00m \u001b[38;5;28mopen\u001b[39m(\u001b[38;5;124m\"\u001b[39m\u001b[38;5;124mtest\u001b[39m\u001b[38;5;124m\"\u001b[39m, \u001b[38;5;124m\"\u001b[39m\u001b[38;5;124mwb\u001b[39m\u001b[38;5;124m\"\u001b[39m) \u001b[38;5;28;01mas\u001b[39;00m f:\n\u001b[0;32m----> 2\u001b[0m     \u001b[43mf\u001b[49m\u001b[38;5;241;43m.\u001b[39;49m\u001b[43mwrite\u001b[49m\u001b[43m(\u001b[49m\u001b[38;5;124;43m\"\u001b[39;49m\u001b[38;5;124;43m123\u001b[39;49m\u001b[38;5;124;43m\"\u001b[39;49m\u001b[43m)\u001b[49m\n",
      "\u001b[0;31mTypeError\u001b[0m: a bytes-like object is required, not 'str'"
     ]
    }
   ],
   "source": [
    "with open(\"test\", \"wb\") as f:\n",
    "    f.write(\"123\")"
   ]
  },
  {
   "cell_type": "code",
   "execution_count": 4,
   "id": "fc064f19-dedc-4f46-a23a-270d1262e57b",
   "metadata": {},
   "outputs": [
    {
     "data": {
      "text/plain": [
       "b'\\x01\\xe0\\xf3'"
      ]
     },
     "execution_count": 4,
     "metadata": {},
     "output_type": "execute_result"
    }
   ],
   "source": [
    "a = 123123\n",
    "a.to_bytes(length=3)"
   ]
  }
 ],
 "metadata": {
  "kernelspec": {
   "display_name": "Python 3 (ipykernel)",
   "language": "python",
   "name": "python3"
  },
  "language_info": {
   "codemirror_mode": {
    "name": "ipython",
    "version": 3
   },
   "file_extension": ".py",
   "mimetype": "text/x-python",
   "name": "python",
   "nbconvert_exporter": "python",
   "pygments_lexer": "ipython3",
   "version": "3.11.2"
  }
 },
 "nbformat": 4,
 "nbformat_minor": 5
}
